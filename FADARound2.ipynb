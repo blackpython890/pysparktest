{
 "cells": [
  {
   "cell_type": "code",
   "metadata": {
    "tags": [],
    "cell_id": "00000-0a70ab7d-a2e4-49ba-920e-2ba698324956",
    "deepnote_to_be_reexecuted": false,
    "source_hash": "2fb80a92",
    "execution_start": 1623876200381,
    "execution_millis": 5330,
    "deepnote_cell_type": "code"
   },
   "source": "import pandas as pd\nimport matplotlib.pyplot as plt\nimport seaborn as sns\ndf = pd.read_csv('Hotel_Reviews.csv')",
   "execution_count": 1,
   "outputs": []
  },
  {
   "cell_type": "code",
   "source": "df.dtypes",
   "metadata": {
    "tags": [],
    "cell_id": "00001-a1987f61-927f-4f37-bc1e-a70d86f7f7b0",
    "deepnote_to_be_reexecuted": false,
    "source_hash": "52430027",
    "execution_start": 1623876205729,
    "execution_millis": 13,
    "deepnote_cell_type": "code"
   },
   "outputs": [
    {
     "output_type": "execute_result",
     "execution_count": 2,
     "data": {
      "text/plain": "Hotel_Address                                  object\nAdditional_Number_of_Scoring                    int64\nReview_Date                                    object\nAverage_Score                                 float64\nHotel_Name                                     object\nReviewer_Nationality                           object\nNegative_Review                                object\nReview_Total_Negative_Word_Counts               int64\nTotal_Number_of_Reviews                         int64\nPositive_Review                                object\nReview_Total_Positive_Word_Counts               int64\nTotal_Number_of_Reviews_Reviewer_Has_Given      int64\nReviewer_Score                                float64\nTags                                           object\ndays_since_review                              object\nlat                                           float64\nlng                                           float64\ndtype: object"
     },
     "metadata": {}
    }
   ],
   "execution_count": 2
  },
  {
   "cell_type": "code",
   "source": "df.shape",
   "metadata": {
    "tags": [],
    "cell_id": "00002-c28d4314-671b-44d4-921b-2caba116b7fd",
    "deepnote_to_be_reexecuted": false,
    "source_hash": "14f60b8f",
    "execution_start": 1623876205747,
    "execution_millis": 7,
    "deepnote_cell_type": "code"
   },
   "outputs": [
    {
     "output_type": "execute_result",
     "execution_count": 3,
     "data": {
      "text/plain": "(515738, 17)"
     },
     "metadata": {}
    }
   ],
   "execution_count": 3
  },
  {
   "cell_type": "markdown",
   "source": "Total Count of Data",
   "metadata": {
    "tags": [],
    "cell_id": "00003-7b6ffe11-1933-414e-a533-66c03daa4321",
    "deepnote_cell_type": "markdown"
   }
  },
  {
   "cell_type": "code",
   "source": "df.head(2)",
   "metadata": {
    "tags": [],
    "cell_id": "00003-c4959e8e-c522-4b67-9e42-0a8c193c9a1d",
    "deepnote_to_be_reexecuted": false,
    "source_hash": "6cd8acfd",
    "execution_start": 1623876205836,
    "execution_millis": 77,
    "deepnote_cell_type": "code"
   },
   "outputs": [
    {
     "output_type": "execute_result",
     "execution_count": 4,
     "data": {
      "application/vnd.deepnote.dataframe.v2+json": {
       "row_count": 2,
       "column_count": 17,
       "columns": [
        {
         "name": "Hotel_Address",
         "dtype": "object",
         "stats": {
          "unique_count": 1,
          "nan_count": 0,
          "categories": [
           {
            "name": " s Gravesandestraat 55 Oost 1092 AA Amsterdam Netherlands",
            "count": 2
           }
          ]
         }
        },
        {
         "name": "Additional_Number_of_Scoring",
         "dtype": "int64",
         "stats": {
          "unique_count": 1,
          "nan_count": 0,
          "min": "194",
          "max": "194",
          "histogram": [
           {
            "bin_start": 193.5,
            "bin_end": 193.6,
            "count": 0
           },
           {
            "bin_start": 193.6,
            "bin_end": 193.7,
            "count": 0
           },
           {
            "bin_start": 193.7,
            "bin_end": 193.8,
            "count": 0
           },
           {
            "bin_start": 193.8,
            "bin_end": 193.9,
            "count": 0
           },
           {
            "bin_start": 193.9,
            "bin_end": 194,
            "count": 0
           },
           {
            "bin_start": 194,
            "bin_end": 194.1,
            "count": 2
           },
           {
            "bin_start": 194.1,
            "bin_end": 194.2,
            "count": 0
           },
           {
            "bin_start": 194.2,
            "bin_end": 194.3,
            "count": 0
           },
           {
            "bin_start": 194.3,
            "bin_end": 194.4,
            "count": 0
           },
           {
            "bin_start": 194.4,
            "bin_end": 194.5,
            "count": 0
           }
          ]
         }
        },
        {
         "name": "Review_Date",
         "dtype": "object",
         "stats": {
          "unique_count": 1,
          "nan_count": 0,
          "categories": [
           {
            "name": "8/3/2017",
            "count": 2
           }
          ]
         }
        },
        {
         "name": "Average_Score",
         "dtype": "float64",
         "stats": {
          "unique_count": 1,
          "nan_count": 0,
          "min": "7.7",
          "max": "7.7",
          "histogram": [
           {
            "bin_start": 7.2,
            "bin_end": 7.3,
            "count": 0
           },
           {
            "bin_start": 7.3,
            "bin_end": 7.4,
            "count": 0
           },
           {
            "bin_start": 7.4,
            "bin_end": 7.5,
            "count": 0
           },
           {
            "bin_start": 7.5,
            "bin_end": 7.6,
            "count": 0
           },
           {
            "bin_start": 7.6,
            "bin_end": 7.699999999999999,
            "count": 0
           },
           {
            "bin_start": 7.699999999999999,
            "bin_end": 7.8,
            "count": 2
           },
           {
            "bin_start": 7.8,
            "bin_end": 7.8999999999999995,
            "count": 0
           },
           {
            "bin_start": 7.8999999999999995,
            "bin_end": 7.999999999999999,
            "count": 0
           },
           {
            "bin_start": 7.999999999999999,
            "bin_end": 8.1,
            "count": 0
           },
           {
            "bin_start": 8.1,
            "bin_end": 8.2,
            "count": 0
           }
          ]
         }
        },
        {
         "name": "Hotel_Name",
         "dtype": "object",
         "stats": {
          "unique_count": 1,
          "nan_count": 0,
          "categories": [
           {
            "name": "Hotel Arena",
            "count": 2
           }
          ]
         }
        },
        {
         "name": "Reviewer_Nationality",
         "dtype": "object",
         "stats": {
          "unique_count": 2,
          "nan_count": 0,
          "categories": [
           {
            "name": " Russia ",
            "count": 1
           },
           {
            "name": " Ireland ",
            "count": 1
           }
          ]
         }
        },
        {
         "name": "Negative_Review",
         "dtype": "object",
         "stats": {
          "unique_count": 2,
          "nan_count": 0,
          "categories": [
           {
            "name": " I am so angry that i made this post available via all possible sites i use when planing my trips so no one will make the mistake of booking this place I made my booking via booking com We stayed for 6 nights in this hotel from 11 to 17 July Upon arrival we were placed in a small room on the 2nd floor of the hotel It turned out that this was not the room we booked I had specially reserved the 2 level duplex room so that we would have a big windows and high ceilings The room itself was ok if you don t mind the broken window that can not be closed hello rain and a mini fridge that contained some sort of a bio weapon at least i guessed so by the smell of it I intimately asked to change the room and after explaining 2 times that i booked a duplex btw it costs the same as a simple double but got way more volume due to the high ceiling was offered a room but only the next day SO i had to check out the next day before 11 o clock in order to get the room i waned to Not the best way to begin your holiday So we had to wait till 13 00 in order to check in my new room what a wonderful waist of my time The room 023 i got was just as i wanted to peaceful internal garden view big window We were tired from waiting the room so we placed our belongings and rushed to the city In the evening it turned out that there was a constant noise in the room i guess it was made by vibrating vent tubes or something it was constant and annoying as hell AND it did not stop even at 2 am making it hard to fall asleep for me and my wife I have an audio recording that i can not attach here but if you want i can send it via e mail The next day the technician came but was not able to determine the cause of the disturbing sound so i was offered to change the room once again the hotel was fully booked and they had only 1 room left the one that was smaller but seems newer ",
            "count": 1
           },
           {
            "name": "No Negative",
            "count": 1
           }
          ]
         }
        },
        {
         "name": "Review_Total_Negative_Word_Counts",
         "dtype": "int64",
         "stats": {
          "unique_count": 2,
          "nan_count": 0,
          "min": "0",
          "max": "397",
          "histogram": [
           {
            "bin_start": 0,
            "bin_end": 39.7,
            "count": 1
           },
           {
            "bin_start": 39.7,
            "bin_end": 79.4,
            "count": 0
           },
           {
            "bin_start": 79.4,
            "bin_end": 119.10000000000001,
            "count": 0
           },
           {
            "bin_start": 119.10000000000001,
            "bin_end": 158.8,
            "count": 0
           },
           {
            "bin_start": 158.8,
            "bin_end": 198.5,
            "count": 0
           },
           {
            "bin_start": 198.5,
            "bin_end": 238.20000000000002,
            "count": 0
           },
           {
            "bin_start": 238.20000000000002,
            "bin_end": 277.90000000000003,
            "count": 0
           },
           {
            "bin_start": 277.90000000000003,
            "bin_end": 317.6,
            "count": 0
           },
           {
            "bin_start": 317.6,
            "bin_end": 357.3,
            "count": 0
           },
           {
            "bin_start": 357.3,
            "bin_end": 397,
            "count": 1
           }
          ]
         }
        },
        {
         "name": "Total_Number_of_Reviews",
         "dtype": "int64",
         "stats": {
          "unique_count": 1,
          "nan_count": 0,
          "min": "1403",
          "max": "1403",
          "histogram": [
           {
            "bin_start": 1402.5,
            "bin_end": 1402.6,
            "count": 0
           },
           {
            "bin_start": 1402.6,
            "bin_end": 1402.7,
            "count": 0
           },
           {
            "bin_start": 1402.7,
            "bin_end": 1402.8,
            "count": 0
           },
           {
            "bin_start": 1402.8,
            "bin_end": 1402.9,
            "count": 0
           },
           {
            "bin_start": 1402.9,
            "bin_end": 1403,
            "count": 0
           },
           {
            "bin_start": 1403,
            "bin_end": 1403.1,
            "count": 2
           },
           {
            "bin_start": 1403.1,
            "bin_end": 1403.2,
            "count": 0
           },
           {
            "bin_start": 1403.2,
            "bin_end": 1403.3,
            "count": 0
           },
           {
            "bin_start": 1403.3,
            "bin_end": 1403.4,
            "count": 0
           },
           {
            "bin_start": 1403.4,
            "bin_end": 1403.5,
            "count": 0
           }
          ]
         }
        },
        {
         "name": "Positive_Review",
         "dtype": "object",
         "stats": {
          "unique_count": 2,
          "nan_count": 0,
          "categories": [
           {
            "name": " Only the park outside of the hotel was beautiful ",
            "count": 1
           },
           {
            "name": " No real complaints the hotel was great great location surroundings rooms amenities and service Two recommendations however firstly the staff upon check in are very confusing regarding deposit payments and the staff offer you upon checkout to refund your original payment and you can make a new one Bit confusing Secondly the on site restaurant is a bit lacking very well thought out and excellent quality food for anyone of a vegetarian or vegan background but even a wrap or toasted sandwich option would be great Aside from those minor minor things fantastic spot and will be back when i return to Amsterdam ",
            "count": 1
           }
          ]
         }
        },
        {
         "name": "Review_Total_Positive_Word_Counts",
         "dtype": "int64",
         "stats": {
          "unique_count": 2,
          "nan_count": 0,
          "min": "11",
          "max": "105",
          "histogram": [
           {
            "bin_start": 11,
            "bin_end": 20.4,
            "count": 1
           },
           {
            "bin_start": 20.4,
            "bin_end": 29.8,
            "count": 0
           },
           {
            "bin_start": 29.8,
            "bin_end": 39.2,
            "count": 0
           },
           {
            "bin_start": 39.2,
            "bin_end": 48.6,
            "count": 0
           },
           {
            "bin_start": 48.6,
            "bin_end": 58,
            "count": 0
           },
           {
            "bin_start": 58,
            "bin_end": 67.4,
            "count": 0
           },
           {
            "bin_start": 67.4,
            "bin_end": 76.8,
            "count": 0
           },
           {
            "bin_start": 76.8,
            "bin_end": 86.2,
            "count": 0
           },
           {
            "bin_start": 86.2,
            "bin_end": 95.60000000000001,
            "count": 0
           },
           {
            "bin_start": 95.60000000000001,
            "bin_end": 105,
            "count": 1
           }
          ]
         }
        },
        {
         "name": "Total_Number_of_Reviews_Reviewer_Has_Given",
         "dtype": "int64",
         "stats": {
          "unique_count": 1,
          "nan_count": 0,
          "min": "7",
          "max": "7",
          "histogram": [
           {
            "bin_start": 6.5,
            "bin_end": 6.6,
            "count": 0
           },
           {
            "bin_start": 6.6,
            "bin_end": 6.7,
            "count": 0
           },
           {
            "bin_start": 6.7,
            "bin_end": 6.8,
            "count": 0
           },
           {
            "bin_start": 6.8,
            "bin_end": 6.9,
            "count": 0
           },
           {
            "bin_start": 6.9,
            "bin_end": 7,
            "count": 0
           },
           {
            "bin_start": 7,
            "bin_end": 7.1,
            "count": 2
           },
           {
            "bin_start": 7.1,
            "bin_end": 7.2,
            "count": 0
           },
           {
            "bin_start": 7.2,
            "bin_end": 7.3,
            "count": 0
           },
           {
            "bin_start": 7.3,
            "bin_end": 7.4,
            "count": 0
           },
           {
            "bin_start": 7.4,
            "bin_end": 7.5,
            "count": 0
           }
          ]
         }
        },
        {
         "name": "Reviewer_Score",
         "dtype": "float64",
         "stats": {
          "unique_count": 2,
          "nan_count": 0,
          "min": "2.9",
          "max": "7.5",
          "histogram": [
           {
            "bin_start": 2.9,
            "bin_end": 3.36,
            "count": 1
           },
           {
            "bin_start": 3.36,
            "bin_end": 3.82,
            "count": 0
           },
           {
            "bin_start": 3.82,
            "bin_end": 4.279999999999999,
            "count": 0
           },
           {
            "bin_start": 4.279999999999999,
            "bin_end": 4.74,
            "count": 0
           },
           {
            "bin_start": 4.74,
            "bin_end": 5.199999999999999,
            "count": 0
           },
           {
            "bin_start": 5.199999999999999,
            "bin_end": 5.66,
            "count": 0
           },
           {
            "bin_start": 5.66,
            "bin_end": 6.119999999999999,
            "count": 0
           },
           {
            "bin_start": 6.119999999999999,
            "bin_end": 6.58,
            "count": 0
           },
           {
            "bin_start": 6.58,
            "bin_end": 7.039999999999999,
            "count": 0
           },
           {
            "bin_start": 7.039999999999999,
            "bin_end": 7.5,
            "count": 1
           }
          ]
         }
        },
        {
         "name": "Tags",
         "dtype": "object",
         "stats": {
          "unique_count": 2,
          "nan_count": 0,
          "categories": [
           {
            "name": "[' Leisure trip ', ' Couple ', ' Duplex Double Room ', ' Stayed 6 nights ']",
            "count": 1
           },
           {
            "name": "[' Leisure trip ', ' Couple ', ' Duplex Double Room ', ' Stayed 4 nights ']",
            "count": 1
           }
          ]
         }
        },
        {
         "name": "days_since_review",
         "dtype": "object",
         "stats": {
          "unique_count": 1,
          "nan_count": 0,
          "categories": [
           {
            "name": "0 days",
            "count": 2
           }
          ]
         }
        },
        {
         "name": "lat",
         "dtype": "float64",
         "stats": {
          "unique_count": 1,
          "nan_count": 0,
          "min": "52.3605759",
          "max": "52.3605759",
          "histogram": [
           {
            "bin_start": 51.8605759,
            "bin_end": 51.9605759,
            "count": 0
           },
           {
            "bin_start": 51.9605759,
            "bin_end": 52.0605759,
            "count": 0
           },
           {
            "bin_start": 52.0605759,
            "bin_end": 52.1605759,
            "count": 0
           },
           {
            "bin_start": 52.1605759,
            "bin_end": 52.2605759,
            "count": 0
           },
           {
            "bin_start": 52.2605759,
            "bin_end": 52.3605759,
            "count": 0
           },
           {
            "bin_start": 52.3605759,
            "bin_end": 52.4605759,
            "count": 2
           },
           {
            "bin_start": 52.4605759,
            "bin_end": 52.5605759,
            "count": 0
           },
           {
            "bin_start": 52.5605759,
            "bin_end": 52.6605759,
            "count": 0
           },
           {
            "bin_start": 52.6605759,
            "bin_end": 52.7605759,
            "count": 0
           },
           {
            "bin_start": 52.7605759,
            "bin_end": 52.8605759,
            "count": 0
           }
          ]
         }
        },
        {
         "name": "lng",
         "dtype": "float64",
         "stats": {
          "unique_count": 1,
          "nan_count": 0,
          "min": "4.9159683",
          "max": "4.9159683",
          "histogram": [
           {
            "bin_start": 4.4159683,
            "bin_end": 4.5159683,
            "count": 0
           },
           {
            "bin_start": 4.5159683,
            "bin_end": 4.6159683000000005,
            "count": 0
           },
           {
            "bin_start": 4.6159683000000005,
            "bin_end": 4.7159683,
            "count": 0
           },
           {
            "bin_start": 4.7159683,
            "bin_end": 4.815968300000001,
            "count": 0
           },
           {
            "bin_start": 4.815968300000001,
            "bin_end": 4.9159683,
            "count": 0
           },
           {
            "bin_start": 4.9159683,
            "bin_end": 5.015968300000001,
            "count": 2
           },
           {
            "bin_start": 5.015968300000001,
            "bin_end": 5.1159683000000005,
            "count": 0
           },
           {
            "bin_start": 5.1159683000000005,
            "bin_end": 5.2159683,
            "count": 0
           },
           {
            "bin_start": 5.2159683,
            "bin_end": 5.315968300000001,
            "count": 0
           },
           {
            "bin_start": 5.315968300000001,
            "bin_end": 5.4159683,
            "count": 0
           }
          ]
         }
        },
        {
         "name": "_deepnote_index_column",
         "dtype": "int64"
        }
       ],
       "rows_top": [
        {
         "Hotel_Address": " s Gravesandestraat 55 Oost 1092 AA Amsterdam Netherlands",
         "Additional_Number_of_Scoring": 194,
         "Review_Date": "8/3/2017",
         "Average_Score": 7.7,
         "Hotel_Name": "Hotel Arena",
         "Reviewer_Nationality": " Russia ",
         "Negative_Review": " I am so angry that i made this post available via all possible sites i use when planing my trips s…",
         "Review_Total_Negative_Word_Counts": 397,
         "Total_Number_of_Reviews": 1403,
         "Positive_Review": " Only the park outside of the hotel was beautiful ",
         "Review_Total_Positive_Word_Counts": 11,
         "Total_Number_of_Reviews_Reviewer_Has_Given": 7,
         "Reviewer_Score": 2.9,
         "Tags": "[' Leisure trip ', ' Couple ', ' Duplex Double Room ', ' Stayed 6 nights ']",
         "days_since_review": "0 days",
         "lat": 52.3605759,
         "lng": 4.9159683,
         "_deepnote_index_column": 0
        },
        {
         "Hotel_Address": " s Gravesandestraat 55 Oost 1092 AA Amsterdam Netherlands",
         "Additional_Number_of_Scoring": 194,
         "Review_Date": "8/3/2017",
         "Average_Score": 7.7,
         "Hotel_Name": "Hotel Arena",
         "Reviewer_Nationality": " Ireland ",
         "Negative_Review": "No Negative",
         "Review_Total_Negative_Word_Counts": 0,
         "Total_Number_of_Reviews": 1403,
         "Positive_Review": " No real complaints the hotel was great great location surroundings rooms amenities and service Two…",
         "Review_Total_Positive_Word_Counts": 105,
         "Total_Number_of_Reviews_Reviewer_Has_Given": 7,
         "Reviewer_Score": 7.5,
         "Tags": "[' Leisure trip ', ' Couple ', ' Duplex Double Room ', ' Stayed 4 nights ']",
         "days_since_review": "0 days",
         "lat": 52.3605759,
         "lng": 4.9159683,
         "_deepnote_index_column": 1
        }
       ],
       "rows_bottom": null
      },
      "text/plain": "                                       Hotel_Address  \\\n0   s Gravesandestraat 55 Oost 1092 AA Amsterdam ...   \n1   s Gravesandestraat 55 Oost 1092 AA Amsterdam ...   \n\n   Additional_Number_of_Scoring Review_Date  Average_Score   Hotel_Name  \\\n0                           194    8/3/2017            7.7  Hotel Arena   \n1                           194    8/3/2017            7.7  Hotel Arena   \n\n  Reviewer_Nationality                                    Negative_Review  \\\n0              Russia    I am so angry that i made this post available...   \n1             Ireland                                         No Negative   \n\n   Review_Total_Negative_Word_Counts  Total_Number_of_Reviews  \\\n0                                397                     1403   \n1                                  0                     1403   \n\n                                     Positive_Review  \\\n0   Only the park outside of the hotel was beauti...   \n1   No real complaints the hotel was great great ...   \n\n   Review_Total_Positive_Word_Counts  \\\n0                                 11   \n1                                105   \n\n   Total_Number_of_Reviews_Reviewer_Has_Given  Reviewer_Score  \\\n0                                           7             2.9   \n1                                           7             7.5   \n\n                                                Tags days_since_review  \\\n0  [' Leisure trip ', ' Couple ', ' Duplex Double...            0 days   \n1  [' Leisure trip ', ' Couple ', ' Duplex Double...            0 days   \n\n         lat       lng  \n0  52.360576  4.915968  \n1  52.360576  4.915968  ",
      "text/html": "<div>\n<style scoped>\n    .dataframe tbody tr th:only-of-type {\n        vertical-align: middle;\n    }\n\n    .dataframe tbody tr th {\n        vertical-align: top;\n    }\n\n    .dataframe thead th {\n        text-align: right;\n    }\n</style>\n<table border=\"1\" class=\"dataframe\">\n  <thead>\n    <tr style=\"text-align: right;\">\n      <th></th>\n      <th>Hotel_Address</th>\n      <th>Additional_Number_of_Scoring</th>\n      <th>Review_Date</th>\n      <th>Average_Score</th>\n      <th>Hotel_Name</th>\n      <th>Reviewer_Nationality</th>\n      <th>Negative_Review</th>\n      <th>Review_Total_Negative_Word_Counts</th>\n      <th>Total_Number_of_Reviews</th>\n      <th>Positive_Review</th>\n      <th>Review_Total_Positive_Word_Counts</th>\n      <th>Total_Number_of_Reviews_Reviewer_Has_Given</th>\n      <th>Reviewer_Score</th>\n      <th>Tags</th>\n      <th>days_since_review</th>\n      <th>lat</th>\n      <th>lng</th>\n    </tr>\n  </thead>\n  <tbody>\n    <tr>\n      <th>0</th>\n      <td>s Gravesandestraat 55 Oost 1092 AA Amsterdam ...</td>\n      <td>194</td>\n      <td>8/3/2017</td>\n      <td>7.7</td>\n      <td>Hotel Arena</td>\n      <td>Russia</td>\n      <td>I am so angry that i made this post available...</td>\n      <td>397</td>\n      <td>1403</td>\n      <td>Only the park outside of the hotel was beauti...</td>\n      <td>11</td>\n      <td>7</td>\n      <td>2.9</td>\n      <td>[' Leisure trip ', ' Couple ', ' Duplex Double...</td>\n      <td>0 days</td>\n      <td>52.360576</td>\n      <td>4.915968</td>\n    </tr>\n    <tr>\n      <th>1</th>\n      <td>s Gravesandestraat 55 Oost 1092 AA Amsterdam ...</td>\n      <td>194</td>\n      <td>8/3/2017</td>\n      <td>7.7</td>\n      <td>Hotel Arena</td>\n      <td>Ireland</td>\n      <td>No Negative</td>\n      <td>0</td>\n      <td>1403</td>\n      <td>No real complaints the hotel was great great ...</td>\n      <td>105</td>\n      <td>7</td>\n      <td>7.5</td>\n      <td>[' Leisure trip ', ' Couple ', ' Duplex Double...</td>\n      <td>0 days</td>\n      <td>52.360576</td>\n      <td>4.915968</td>\n    </tr>\n  </tbody>\n</table>\n</div>"
     },
     "metadata": {}
    }
   ],
   "execution_count": 4
  },
  {
   "cell_type": "markdown",
   "source": "Visualization of Numerical Data",
   "metadata": {
    "tags": [],
    "cell_id": "00005-0175265b-cecc-4e65-a556-ed8e33ed3f78",
    "deepnote_cell_type": "markdown"
   }
  },
  {
   "cell_type": "code",
   "source": "df.describe()",
   "metadata": {
    "tags": [],
    "cell_id": "00005-e7df7621-987d-4749-992e-6882b41757ef",
    "deepnote_to_be_reexecuted": false,
    "source_hash": "f88152d9",
    "execution_start": 1623876205982,
    "execution_millis": 274,
    "deepnote_cell_type": "code"
   },
   "outputs": [
    {
     "output_type": "execute_result",
     "execution_count": 5,
     "data": {
      "application/vnd.deepnote.dataframe.v2+json": {
       "row_count": 8,
       "column_count": 9,
       "columns": [
        {
         "name": "Additional_Number_of_Scoring",
         "dtype": "float64",
         "stats": {
          "unique_count": 8,
          "nan_count": 0,
          "min": "1.0",
          "max": "515738.0",
          "histogram": [
           {
            "bin_start": 1,
            "bin_end": 51574.7,
            "count": 7
           },
           {
            "bin_start": 51574.7,
            "bin_end": 103148.4,
            "count": 0
           },
           {
            "bin_start": 103148.4,
            "bin_end": 154722.09999999998,
            "count": 0
           },
           {
            "bin_start": 154722.09999999998,
            "bin_end": 206295.8,
            "count": 0
           },
           {
            "bin_start": 206295.8,
            "bin_end": 257869.5,
            "count": 0
           },
           {
            "bin_start": 257869.5,
            "bin_end": 309443.19999999995,
            "count": 0
           },
           {
            "bin_start": 309443.19999999995,
            "bin_end": 361016.89999999997,
            "count": 0
           },
           {
            "bin_start": 361016.89999999997,
            "bin_end": 412590.6,
            "count": 0
           },
           {
            "bin_start": 412590.6,
            "bin_end": 464164.3,
            "count": 0
           },
           {
            "bin_start": 464164.3,
            "bin_end": 515738,
            "count": 1
           }
          ]
         }
        },
        {
         "name": "Average_Score",
         "dtype": "float64",
         "stats": {
          "unique_count": 8,
          "nan_count": 0,
          "min": "0.5480481691953282",
          "max": "515738.0",
          "histogram": [
           {
            "bin_start": 0.5480481691953282,
            "bin_end": 51574.29324335227,
            "count": 7
           },
           {
            "bin_start": 51574.29324335227,
            "bin_end": 103148.03843853535,
            "count": 0
           },
           {
            "bin_start": 103148.03843853535,
            "bin_end": 154721.78363371844,
            "count": 0
           },
           {
            "bin_start": 154721.78363371844,
            "bin_end": 206295.52882890153,
            "count": 0
           },
           {
            "bin_start": 206295.52882890153,
            "bin_end": 257869.27402408462,
            "count": 0
           },
           {
            "bin_start": 257869.27402408462,
            "bin_end": 309443.01921926765,
            "count": 0
           },
           {
            "bin_start": 309443.01921926765,
            "bin_end": 361016.76441445074,
            "count": 0
           },
           {
            "bin_start": 361016.76441445074,
            "bin_end": 412590.5096096338,
            "count": 0
           },
           {
            "bin_start": 412590.5096096338,
            "bin_end": 464164.2548048169,
            "count": 0
           },
           {
            "bin_start": 464164.2548048169,
            "bin_end": 515738,
            "count": 1
           }
          ]
         }
        },
        {
         "name": "Review_Total_Negative_Word_Counts",
         "dtype": "float64",
         "stats": {
          "unique_count": 8,
          "nan_count": 0,
          "min": "0.0",
          "max": "515738.0",
          "histogram": [
           {
            "bin_start": 0,
            "bin_end": 51573.8,
            "count": 7
           },
           {
            "bin_start": 51573.8,
            "bin_end": 103147.6,
            "count": 0
           },
           {
            "bin_start": 103147.6,
            "bin_end": 154721.40000000002,
            "count": 0
           },
           {
            "bin_start": 154721.40000000002,
            "bin_end": 206295.2,
            "count": 0
           },
           {
            "bin_start": 206295.2,
            "bin_end": 257869,
            "count": 0
           },
           {
            "bin_start": 257869,
            "bin_end": 309442.80000000005,
            "count": 0
           },
           {
            "bin_start": 309442.80000000005,
            "bin_end": 361016.60000000003,
            "count": 0
           },
           {
            "bin_start": 361016.60000000003,
            "bin_end": 412590.4,
            "count": 0
           },
           {
            "bin_start": 412590.4,
            "bin_end": 464164.2,
            "count": 0
           },
           {
            "bin_start": 464164.2,
            "bin_end": 515738,
            "count": 1
           }
          ]
         }
        },
        {
         "name": "Total_Number_of_Reviews",
         "dtype": "float64",
         "stats": {
          "unique_count": 8,
          "nan_count": 0,
          "min": "43.0",
          "max": "515738.0",
          "histogram": [
           {
            "bin_start": 43,
            "bin_end": 51612.5,
            "count": 7
           },
           {
            "bin_start": 51612.5,
            "bin_end": 103182,
            "count": 0
           },
           {
            "bin_start": 103182,
            "bin_end": 154751.5,
            "count": 0
           },
           {
            "bin_start": 154751.5,
            "bin_end": 206321,
            "count": 0
           },
           {
            "bin_start": 206321,
            "bin_end": 257890.5,
            "count": 0
           },
           {
            "bin_start": 257890.5,
            "bin_end": 309460,
            "count": 0
           },
           {
            "bin_start": 309460,
            "bin_end": 361029.5,
            "count": 0
           },
           {
            "bin_start": 361029.5,
            "bin_end": 412599,
            "count": 0
           },
           {
            "bin_start": 412599,
            "bin_end": 464168.5,
            "count": 0
           },
           {
            "bin_start": 464168.5,
            "bin_end": 515738,
            "count": 1
           }
          ]
         }
        },
        {
         "name": "Review_Total_Positive_Word_Counts",
         "dtype": "float64",
         "stats": {
          "unique_count": 8,
          "nan_count": 0,
          "min": "0.0",
          "max": "515738.0",
          "histogram": [
           {
            "bin_start": 0,
            "bin_end": 51573.8,
            "count": 7
           },
           {
            "bin_start": 51573.8,
            "bin_end": 103147.6,
            "count": 0
           },
           {
            "bin_start": 103147.6,
            "bin_end": 154721.40000000002,
            "count": 0
           },
           {
            "bin_start": 154721.40000000002,
            "bin_end": 206295.2,
            "count": 0
           },
           {
            "bin_start": 206295.2,
            "bin_end": 257869,
            "count": 0
           },
           {
            "bin_start": 257869,
            "bin_end": 309442.80000000005,
            "count": 0
           },
           {
            "bin_start": 309442.80000000005,
            "bin_end": 361016.60000000003,
            "count": 0
           },
           {
            "bin_start": 361016.60000000003,
            "bin_end": 412590.4,
            "count": 0
           },
           {
            "bin_start": 412590.4,
            "bin_end": 464164.2,
            "count": 0
           },
           {
            "bin_start": 464164.2,
            "bin_end": 515738,
            "count": 1
           }
          ]
         }
        },
        {
         "name": "Total_Number_of_Reviews_Reviewer_Has_Given",
         "dtype": "float64",
         "stats": {
          "unique_count": 7,
          "nan_count": 0,
          "min": "1.0",
          "max": "515738.0",
          "histogram": [
           {
            "bin_start": 1,
            "bin_end": 51574.7,
            "count": 7
           },
           {
            "bin_start": 51574.7,
            "bin_end": 103148.4,
            "count": 0
           },
           {
            "bin_start": 103148.4,
            "bin_end": 154722.09999999998,
            "count": 0
           },
           {
            "bin_start": 154722.09999999998,
            "bin_end": 206295.8,
            "count": 0
           },
           {
            "bin_start": 206295.8,
            "bin_end": 257869.5,
            "count": 0
           },
           {
            "bin_start": 257869.5,
            "bin_end": 309443.19999999995,
            "count": 0
           },
           {
            "bin_start": 309443.19999999995,
            "bin_end": 361016.89999999997,
            "count": 0
           },
           {
            "bin_start": 361016.89999999997,
            "bin_end": 412590.6,
            "count": 0
           },
           {
            "bin_start": 412590.6,
            "bin_end": 464164.3,
            "count": 0
           },
           {
            "bin_start": 464164.3,
            "bin_end": 515738,
            "count": 1
           }
          ]
         }
        },
        {
         "name": "Reviewer_Score",
         "dtype": "float64",
         "stats": {
          "unique_count": 8,
          "nan_count": 0,
          "min": "1.6378561184672409",
          "max": "515738.0",
          "histogram": [
           {
            "bin_start": 1.6378561184672409,
            "bin_end": 51575.274070506624,
            "count": 7
           },
           {
            "bin_start": 51575.274070506624,
            "bin_end": 103148.91028489478,
            "count": 0
           },
           {
            "bin_start": 103148.91028489478,
            "bin_end": 154722.54649928294,
            "count": 0
           },
           {
            "bin_start": 154722.54649928294,
            "bin_end": 206296.1827136711,
            "count": 0
           },
           {
            "bin_start": 206296.1827136711,
            "bin_end": 257869.81892805925,
            "count": 0
           },
           {
            "bin_start": 257869.81892805925,
            "bin_end": 309443.4551424474,
            "count": 0
           },
           {
            "bin_start": 309443.4551424474,
            "bin_end": 361017.0913568355,
            "count": 0
           },
           {
            "bin_start": 361017.0913568355,
            "bin_end": 412590.7275712237,
            "count": 0
           },
           {
            "bin_start": 412590.7275712237,
            "bin_end": 464164.3637856119,
            "count": 0
           },
           {
            "bin_start": 464164.3637856119,
            "bin_end": 515738,
            "count": 1
           }
          ]
         }
        },
        {
         "name": "lat",
         "dtype": "float64",
         "stats": {
          "unique_count": 8,
          "nan_count": 0,
          "min": "3.466325247224366",
          "max": "512470.0",
          "histogram": [
           {
            "bin_start": 3.466325247224366,
            "bin_end": 51250.119692722496,
            "count": 7
           },
           {
            "bin_start": 51250.119692722496,
            "bin_end": 102496.77306019777,
            "count": 0
           },
           {
            "bin_start": 102496.77306019777,
            "bin_end": 153743.42642767305,
            "count": 0
           },
           {
            "bin_start": 153743.42642767305,
            "bin_end": 204990.0797951483,
            "count": 0
           },
           {
            "bin_start": 204990.0797951483,
            "bin_end": 256236.73316262357,
            "count": 0
           },
           {
            "bin_start": 256236.73316262357,
            "bin_end": 307483.3865300989,
            "count": 0
           },
           {
            "bin_start": 307483.3865300989,
            "bin_end": 358730.03989757417,
            "count": 0
           },
           {
            "bin_start": 358730.03989757417,
            "bin_end": 409976.6932650494,
            "count": 0
           },
           {
            "bin_start": 409976.6932650494,
            "bin_end": 461223.3466325247,
            "count": 0
           },
           {
            "bin_start": 461223.3466325247,
            "bin_end": 512470,
            "count": 1
           }
          ]
         }
        },
        {
         "name": "lng",
         "dtype": "float64",
         "stats": {
          "unique_count": 8,
          "nan_count": 0,
          "min": "-0.3697581",
          "max": "512470.0",
          "histogram": [
           {
            "bin_start": -0.3697581,
            "bin_end": 51246.66721771,
            "count": 7
           },
           {
            "bin_start": 51246.66721771,
            "bin_end": 102493.70419352,
            "count": 0
           },
           {
            "bin_start": 102493.70419352,
            "bin_end": 153740.74116933,
            "count": 0
           },
           {
            "bin_start": 153740.74116933,
            "bin_end": 204987.77814514,
            "count": 0
           },
           {
            "bin_start": 204987.77814514,
            "bin_end": 256234.81512095002,
            "count": 0
           },
           {
            "bin_start": 256234.81512095002,
            "bin_end": 307481.85209675995,
            "count": 0
           },
           {
            "bin_start": 307481.85209675995,
            "bin_end": 358728.88907256996,
            "count": 0
           },
           {
            "bin_start": 358728.88907256996,
            "bin_end": 409975.92604838,
            "count": 0
           },
           {
            "bin_start": 409975.92604838,
            "bin_end": 461222.96302419,
            "count": 0
           },
           {
            "bin_start": 461222.96302419,
            "bin_end": 512470,
            "count": 1
           }
          ]
         }
        },
        {
         "name": "_deepnote_index_column",
         "dtype": "object"
        }
       ],
       "rows_top": [
        {
         "Additional_Number_of_Scoring": 515738,
         "Average_Score": 515738,
         "Review_Total_Negative_Word_Counts": 515738,
         "Total_Number_of_Reviews": 515738,
         "Review_Total_Positive_Word_Counts": 515738,
         "Total_Number_of_Reviews_Reviewer_Has_Given": 515738,
         "Reviewer_Score": 515738,
         "lat": 512470,
         "lng": 512470,
         "_deepnote_index_column": "count"
        },
        {
         "Additional_Number_of_Scoring": 498.081836126095,
         "Average_Score": 8.39748690226433,
         "Review_Total_Negative_Word_Counts": 18.539450263505888,
         "Total_Number_of_Reviews": 2743.743943630293,
         "Review_Total_Positive_Word_Counts": 17.77645820164502,
         "Total_Number_of_Reviews_Reviewer_Has_Given": 7.166000953972754,
         "Reviewer_Score": 8.395076569886262,
         "lat": 49.442438961563994,
         "lng": 2.8238029851183484,
         "_deepnote_index_column": "mean"
        },
        {
         "Additional_Number_of_Scoring": 500.53846669900594,
         "Average_Score": 0.5480481691953282,
         "Review_Total_Negative_Word_Counts": 29.690830687653488,
         "Total_Number_of_Reviews": 2317.4648682501424,
         "Review_Total_Positive_Word_Counts": 21.804185253860354,
         "Total_Number_of_Reviews_Reviewer_Has_Given": 11.040227653177142,
         "Reviewer_Score": 1.6378561184672409,
         "lat": 3.466325247224366,
         "lng": 4.579425289718015,
         "_deepnote_index_column": "std"
        },
        {
         "Additional_Number_of_Scoring": 1,
         "Average_Score": 5.2,
         "Review_Total_Negative_Word_Counts": 0,
         "Total_Number_of_Reviews": 43,
         "Review_Total_Positive_Word_Counts": 0,
         "Total_Number_of_Reviews_Reviewer_Has_Given": 1,
         "Reviewer_Score": 2.5,
         "lat": 41.3283758,
         "lng": -0.3697581,
         "_deepnote_index_column": "min"
        },
        {
         "Additional_Number_of_Scoring": 169,
         "Average_Score": 8.1,
         "Review_Total_Negative_Word_Counts": 2,
         "Total_Number_of_Reviews": 1161,
         "Review_Total_Positive_Word_Counts": 5,
         "Total_Number_of_Reviews_Reviewer_Has_Given": 1,
         "Reviewer_Score": 7.5,
         "lat": 48.2146623,
         "lng": -0.143372,
         "_deepnote_index_column": "25%"
        },
        {
         "Additional_Number_of_Scoring": 341,
         "Average_Score": 8.4,
         "Review_Total_Negative_Word_Counts": 9,
         "Total_Number_of_Reviews": 2134,
         "Review_Total_Positive_Word_Counts": 11,
         "Total_Number_of_Reviews_Reviewer_Has_Given": 3,
         "Reviewer_Score": 8.8,
         "lat": 51.499981,
         "lng": 0.010607,
         "_deepnote_index_column": "50%"
        },
        {
         "Additional_Number_of_Scoring": 660,
         "Average_Score": 8.8,
         "Review_Total_Negative_Word_Counts": 23,
         "Total_Number_of_Reviews": 3613,
         "Review_Total_Positive_Word_Counts": 22,
         "Total_Number_of_Reviews_Reviewer_Has_Given": 8,
         "Reviewer_Score": 9.6,
         "lat": 51.5162883,
         "lng": 4.834443,
         "_deepnote_index_column": "75%"
        },
        {
         "Additional_Number_of_Scoring": 2682,
         "Average_Score": 9.8,
         "Review_Total_Negative_Word_Counts": 408,
         "Total_Number_of_Reviews": 16670,
         "Review_Total_Positive_Word_Counts": 395,
         "Total_Number_of_Reviews_Reviewer_Has_Given": 355,
         "Reviewer_Score": 10,
         "lat": 52.4001813,
         "lng": 16.4292329,
         "_deepnote_index_column": "max"
        }
       ],
       "rows_bottom": null
      },
      "text/plain": "       Additional_Number_of_Scoring  Average_Score  \\\ncount                 515738.000000  515738.000000   \nmean                     498.081836       8.397487   \nstd                      500.538467       0.548048   \nmin                        1.000000       5.200000   \n25%                      169.000000       8.100000   \n50%                      341.000000       8.400000   \n75%                      660.000000       8.800000   \nmax                     2682.000000       9.800000   \n\n       Review_Total_Negative_Word_Counts  Total_Number_of_Reviews  \\\ncount                      515738.000000            515738.000000   \nmean                           18.539450              2743.743944   \nstd                            29.690831              2317.464868   \nmin                             0.000000                43.000000   \n25%                             2.000000              1161.000000   \n50%                             9.000000              2134.000000   \n75%                            23.000000              3613.000000   \nmax                           408.000000             16670.000000   \n\n       Review_Total_Positive_Word_Counts  \\\ncount                      515738.000000   \nmean                           17.776458   \nstd                            21.804185   \nmin                             0.000000   \n25%                             5.000000   \n50%                            11.000000   \n75%                            22.000000   \nmax                           395.000000   \n\n       Total_Number_of_Reviews_Reviewer_Has_Given  Reviewer_Score  \\\ncount                               515738.000000   515738.000000   \nmean                                     7.166001        8.395077   \nstd                                     11.040228        1.637856   \nmin                                      1.000000        2.500000   \n25%                                      1.000000        7.500000   \n50%                                      3.000000        8.800000   \n75%                                      8.000000        9.600000   \nmax                                    355.000000       10.000000   \n\n                 lat            lng  \ncount  512470.000000  512470.000000  \nmean       49.442439       2.823803  \nstd         3.466325       4.579425  \nmin        41.328376      -0.369758  \n25%        48.214662      -0.143372  \n50%        51.499981       0.010607  \n75%        51.516288       4.834443  \nmax        52.400181      16.429233  ",
      "text/html": "<div>\n<style scoped>\n    .dataframe tbody tr th:only-of-type {\n        vertical-align: middle;\n    }\n\n    .dataframe tbody tr th {\n        vertical-align: top;\n    }\n\n    .dataframe thead th {\n        text-align: right;\n    }\n</style>\n<table border=\"1\" class=\"dataframe\">\n  <thead>\n    <tr style=\"text-align: right;\">\n      <th></th>\n      <th>Additional_Number_of_Scoring</th>\n      <th>Average_Score</th>\n      <th>Review_Total_Negative_Word_Counts</th>\n      <th>Total_Number_of_Reviews</th>\n      <th>Review_Total_Positive_Word_Counts</th>\n      <th>Total_Number_of_Reviews_Reviewer_Has_Given</th>\n      <th>Reviewer_Score</th>\n      <th>lat</th>\n      <th>lng</th>\n    </tr>\n  </thead>\n  <tbody>\n    <tr>\n      <th>count</th>\n      <td>515738.000000</td>\n      <td>515738.000000</td>\n      <td>515738.000000</td>\n      <td>515738.000000</td>\n      <td>515738.000000</td>\n      <td>515738.000000</td>\n      <td>515738.000000</td>\n      <td>512470.000000</td>\n      <td>512470.000000</td>\n    </tr>\n    <tr>\n      <th>mean</th>\n      <td>498.081836</td>\n      <td>8.397487</td>\n      <td>18.539450</td>\n      <td>2743.743944</td>\n      <td>17.776458</td>\n      <td>7.166001</td>\n      <td>8.395077</td>\n      <td>49.442439</td>\n      <td>2.823803</td>\n    </tr>\n    <tr>\n      <th>std</th>\n      <td>500.538467</td>\n      <td>0.548048</td>\n      <td>29.690831</td>\n      <td>2317.464868</td>\n      <td>21.804185</td>\n      <td>11.040228</td>\n      <td>1.637856</td>\n      <td>3.466325</td>\n      <td>4.579425</td>\n    </tr>\n    <tr>\n      <th>min</th>\n      <td>1.000000</td>\n      <td>5.200000</td>\n      <td>0.000000</td>\n      <td>43.000000</td>\n      <td>0.000000</td>\n      <td>1.000000</td>\n      <td>2.500000</td>\n      <td>41.328376</td>\n      <td>-0.369758</td>\n    </tr>\n    <tr>\n      <th>25%</th>\n      <td>169.000000</td>\n      <td>8.100000</td>\n      <td>2.000000</td>\n      <td>1161.000000</td>\n      <td>5.000000</td>\n      <td>1.000000</td>\n      <td>7.500000</td>\n      <td>48.214662</td>\n      <td>-0.143372</td>\n    </tr>\n    <tr>\n      <th>50%</th>\n      <td>341.000000</td>\n      <td>8.400000</td>\n      <td>9.000000</td>\n      <td>2134.000000</td>\n      <td>11.000000</td>\n      <td>3.000000</td>\n      <td>8.800000</td>\n      <td>51.499981</td>\n      <td>0.010607</td>\n    </tr>\n    <tr>\n      <th>75%</th>\n      <td>660.000000</td>\n      <td>8.800000</td>\n      <td>23.000000</td>\n      <td>3613.000000</td>\n      <td>22.000000</td>\n      <td>8.000000</td>\n      <td>9.600000</td>\n      <td>51.516288</td>\n      <td>4.834443</td>\n    </tr>\n    <tr>\n      <th>max</th>\n      <td>2682.000000</td>\n      <td>9.800000</td>\n      <td>408.000000</td>\n      <td>16670.000000</td>\n      <td>395.000000</td>\n      <td>355.000000</td>\n      <td>10.000000</td>\n      <td>52.400181</td>\n      <td>16.429233</td>\n    </tr>\n  </tbody>\n</table>\n</div>"
     },
     "metadata": {}
    }
   ],
   "execution_count": 5
  },
  {
   "cell_type": "markdown",
   "source": "Average Score Bargraph across Hotels",
   "metadata": {
    "tags": [],
    "cell_id": "00007-274b926d-9a81-4b39-b2fd-7847269d11b9",
    "deepnote_cell_type": "markdown"
   }
  },
  {
   "cell_type": "code",
   "source": "data_plot = df[[\"Hotel_Name\",\"Average_Score\"]]\nfig, ax = plt.subplots(figsize=(30,5))\nsns.countplot(ax = ax,x = \"Average_Score\",data=data_plot)",
   "metadata": {
    "tags": [],
    "cell_id": "00007-52b0bc5b-6423-4c9c-9c71-24f8f5db5894",
    "deepnote_to_be_reexecuted": false,
    "source_hash": "a5c8941",
    "execution_start": 1623876206260,
    "execution_millis": 571,
    "deepnote_cell_type": "code"
   },
   "outputs": [
    {
     "output_type": "execute_result",
     "execution_count": 6,
     "data": {
      "text/plain": "<AxesSubplot:xlabel='Average_Score', ylabel='count'>"
     },
     "metadata": {}
    },
    {
     "data": {
      "text/plain": "<Figure size 2160x360 with 1 Axes>",
      "image/png": "[encoded data removed]"
     },
     "metadata": {
      "needs_background": "light",
      "image/png": {
       "width": 1740,
       "height": 318
      }
     },
     "output_type": "display_data"
    }
   ],
   "execution_count": 6
  },
  {
   "cell_type": "markdown",
   "source": "Reviewer Score Count across the datasets",
   "metadata": {
    "tags": [],
    "cell_id": "00009-ba255fde-5bb1-495a-a5bc-27e1e841b273",
    "deepnote_cell_type": "markdown"
   }
  },
  {
   "cell_type": "code",
   "source": "data_plot = df[[\"Hotel_Name\",\"Reviewer_Score\"]]\nfig, ax = plt.subplots(figsize=(30,5))\nsns.countplot(ax = ax,x = \"Reviewer_Score\",data=data_plot)",
   "metadata": {
    "tags": [],
    "cell_id": "00009-600e5f5e-03e9-4a8d-a090-ee9d1e05cc94",
    "deepnote_to_be_reexecuted": false,
    "source_hash": "9f452050",
    "execution_start": 1623876206859,
    "execution_millis": 651,
    "deepnote_cell_type": "code"
   },
   "outputs": [
    {
     "output_type": "execute_result",
     "execution_count": 7,
     "data": {
      "text/plain": "<AxesSubplot:xlabel='Reviewer_Score', ylabel='count'>"
     },
     "metadata": {}
    },
    {
     "data": {
      "text/plain": "<Figure size 2160x360 with 1 Axes>",
      "image/png": "[encoded data removed]"
     },
     "metadata": {
      "needs_background": "light",
      "image/png": {
       "width": 1747,
       "height": 318
      }
     },
     "output_type": "display_data"
    }
   ],
   "execution_count": 7
  },
  {
   "cell_type": "markdown",
   "source": "Top Hotels by Average score",
   "metadata": {
    "tags": [],
    "cell_id": "00012-b8d405eb-a67f-4de8-9f82-4b739ea1e2a3",
    "deepnote_cell_type": "markdown"
   }
  },
  {
   "cell_type": "code",
   "source": "top_hotels = (\n    df.groupby([\"Hotel_Name\"])[\"Average_Score\"].mean()\\\n                                               .sort_values(ascending=False)\\\n                                               .reset_index()\n                                               .head()\n)\nplt.subplots(figsize=(20,5))\nsns.barplot(x=\"Hotel_Name\", y=\"Average_Score\", data=top_hotels)\nplt.show()",
   "metadata": {
    "tags": [],
    "cell_id": "00013-23d7cbf3-a4ba-4e89-9293-e13e53abc48b",
    "deepnote_to_be_reexecuted": false,
    "source_hash": "852dd5a4",
    "execution_start": 1623876207502,
    "execution_millis": 267,
    "deepnote_cell_type": "code"
   },
   "outputs": [
    {
     "data": {
      "text/plain": "<Figure size 1440x360 with 1 Axes>",
      "image/png": "[encoded data removed]"
     },
     "metadata": {
      "needs_background": "light",
      "image/png": {
       "width": 1164,
       "height": 318
      }
     },
     "output_type": "display_data"
    }
   ],
   "execution_count": 8
  },
  {
   "cell_type": "markdown",
   "source": "Bottom Hotels by Average Score",
   "metadata": {
    "tags": [],
    "cell_id": "00013-cea91151-2382-4d17-a80d-9d623773e7ee",
    "deepnote_cell_type": "markdown"
   }
  },
  {
   "cell_type": "code",
   "source": "bottom_hotels = (\n    df.groupby([\"Hotel_Name\"])[\"Average_Score\"].mean()\\\n                                               .sort_values()\\\n                                               .reset_index()\\\n                                               .head()\n)\nplt.subplots(figsize=(20,5))\nsns.barplot(x=\"Hotel_Name\", y=\"Average_Score\", data=bottom_hotels)\nplt.show()",
   "metadata": {
    "tags": [],
    "cell_id": "00013-19747d1e-7e21-4018-8966-0774cad6a722",
    "deepnote_to_be_reexecuted": false,
    "source_hash": "a4c5ca48",
    "execution_start": 1623876324366,
    "execution_millis": 249,
    "deepnote_cell_type": "code"
   },
   "outputs": [
    {
     "data": {
      "text/plain": "<Figure size 1440x360 with 1 Axes>",
      "image/png": "[encoded data removed]"
     },
     "metadata": {
      "needs_background": "light",
      "image/png": {
       "width": 1158,
       "height": 318
      }
     },
     "output_type": "display_data"
    }
   ],
   "execution_count": 11
  },
  {
   "cell_type": "markdown",
   "source": "No Reviewer Type data",
   "metadata": {
    "tags": [],
    "cell_id": "00012-725f55e6-7365-4846-a66d-b26c59a4ce99",
    "deepnote_cell_type": "markdown"
   }
  },
  {
   "cell_type": "markdown",
   "source": "Top Reviewer nationality by average score",
   "metadata": {
    "tags": [],
    "cell_id": "00014-7afbfb4c-fe58-403e-90b3-5a590ee3d812",
    "deepnote_cell_type": "markdown"
   }
  },
  {
   "cell_type": "code",
   "source": "top_rev_nation = (\n    df.groupby([\"Reviewer_Nationality\"])[\"Average_Score\"].mean()\\\n                                               .sort_values(ascending=False)\\\n                                               .reset_index()\\\n                                               .head()\n)\nplt.subplots(figsize=(20,5))\nsns.barplot(x=\"Reviewer_Nationality\", y=\"Average_Score\", data=top_rev_nation)\nplt.show()",
   "metadata": {
    "tags": [],
    "cell_id": "00013-73d124d4-c691-41a0-91c9-dad8a1ab5ef6",
    "deepnote_to_be_reexecuted": false,
    "source_hash": "5ef9f2a3",
    "execution_start": 1623876207794,
    "execution_millis": 312,
    "deepnote_cell_type": "code"
   },
   "outputs": [
    {
     "data": {
      "text/plain": "<Figure size 1440x360 with 1 Axes>",
      "image/png": "[encoded data removed]"
     },
     "metadata": {
      "needs_background": "light",
      "image/png": {
       "width": 1158,
       "height": 318
      }
     },
     "output_type": "display_data"
    }
   ],
   "execution_count": 9
  },
  {
   "cell_type": "markdown",
   "source": "Bottom Reviewer nationality by average score",
   "metadata": {
    "tags": [],
    "cell_id": "00018-783e1445-43d7-40ba-a474-ab123d203637",
    "deepnote_cell_type": "markdown"
   }
  },
  {
   "cell_type": "code",
   "source": "bottom_rev_nation = (\n    df.groupby([\"Reviewer_Nationality\"])[\"Average_Score\"].mean()\\\n                                               .sort_values()\\\n                                               .reset_index()\\\n                                               .head()\n)\nplt.subplots(figsize=(20,5))\nsns.barplot(x=\"Reviewer_Nationality\", y=\"Average_Score\", data=bottom_rev_nation)\nplt.show()",
   "metadata": {
    "tags": [],
    "cell_id": "00018-d0d5b184-b5e9-4288-9984-89cd2a6802a9",
    "deepnote_to_be_reexecuted": false,
    "source_hash": "1eb7e45e",
    "execution_start": 1623876419597,
    "execution_millis": 271,
    "deepnote_cell_type": "code"
   },
   "outputs": [
    {
     "data": {
      "text/plain": "<Figure size 1440x360 with 1 Axes>",
      "image/png": "[encoded data removed]"
     },
     "metadata": {
      "needs_background": "light",
      "image/png": {
       "width": 1158,
       "height": 318
      }
     },
     "output_type": "display_data"
    }
   ],
   "execution_count": 13
  },
  {
   "cell_type": "markdown",
   "source": "Reviewer Score Counts",
   "metadata": {
    "tags": [],
    "cell_id": "00016-a284ee94-3786-4859-a924-de7284902cb3",
    "deepnote_cell_type": "markdown"
   }
  },
  {
   "cell_type": "code",
   "source": "df['Reviewer_Score'].value_counts().plot(kind='bar', figsize = (20, 5))",
   "metadata": {
    "tags": [],
    "cell_id": "00016-77387b64-5f1c-46a8-858a-4f698c16341a",
    "deepnote_to_be_reexecuted": false,
    "source_hash": "2375e34b",
    "execution_start": 1623876208104,
    "execution_millis": 531,
    "deepnote_cell_type": "code"
   },
   "outputs": [
    {
     "output_type": "execute_result",
     "execution_count": 10,
     "data": {
      "text/plain": "<AxesSubplot:>"
     },
     "metadata": {}
    },
    {
     "data": {
      "text/plain": "<Figure size 1440x360 with 1 Axes>",
      "image/png": "[encoded data removed]"
     },
     "metadata": {
      "needs_background": "light",
      "image/png": {
       "width": 1175,
       "height": 315
      }
     },
     "output_type": "display_data"
    }
   ],
   "execution_count": 10
  },
  {
   "cell_type": "markdown",
   "source": "<a style='text-decoration:none;line-height:16px;display:flex;color:#5B5B62;padding:10px;justify-content:end;' href='https://deepnote.com?utm_source=created-in-deepnote-cell&projectId=c892c304-c1f7-421d-9c75-7743e43b9f27' target=\"_blank\">\n<img alt='Created in deepnote.com' style='display:inline;max-height:16px;margin:0px;margin-right:7.5px;' src='data:image/svg+xml;base64,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' > </img>\nCreated in <span style='font-weight:600;margin-left:4px;'>Deepnote</span></a>",
   "metadata": {
    "tags": [],
    "created_in_deepnote_cell": true,
    "deepnote_cell_type": "markdown"
   }
  }
 ],
 "nbformat": 4,
 "nbformat_minor": 2,
 "metadata": {
  "orig_nbformat": 2,
  "deepnote": {
   "is_reactive": false
  },
  "deepnote_notebook_id": "bfab0d85-6ef4-4a03-9d55-298770daec40",
  "deepnote_execution_queue": []
 }
}