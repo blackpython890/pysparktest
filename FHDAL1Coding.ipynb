{
  "nbformat": 4,
  "nbformat_minor": 0,
  "metadata": {
    "colab": {
      "name": "FHDAL1Coding.ipynb",
      "provenance": [],
      "collapsed_sections": [],
      "mount_file_id": "1zdZR043HVUB0lLW2JY9WoRGAf59sHoNx",
      "authorship_tag": "ABX9TyMinLsLF/ezeTSJgLqfXqNd",
      "include_colab_link": true
    },
    "kernelspec": {
      "name": "python3",
      "display_name": "Python 3"
    },
    "language_info": {
      "name": "python"
    }
  },
  "cells": [
    {
      "cell_type": "markdown",
      "metadata": {
        "id": "view-in-github",
        "colab_type": "text"
      },
      "source": [
        "<a href=\"https://colab.research.google.com/github/jagatabhay/pysparktest/blob/main/FHDAL1Coding.ipynb\" target=\"_parent\"><img src=\"https://colab.research.google.com/assets/colab-badge.svg\" alt=\"Open In Colab\"/></a>"
      ]
    },
    {
      "cell_type": "code",
      "metadata": {
        "colab": {
          "base_uri": "https://localhost:8080/"
        },
        "id": "MTN7ejEDTHb4",
        "outputId": "82a299c8-c481-4677-df7f-fb9d95770000"
      },
      "source": [
        "!pip install pyspark"
      ],
      "execution_count": null,
      "outputs": [
        {
          "output_type": "stream",
          "text": [
            "Collecting pyspark\n",
            "\u001b[?25l  Downloading https://files.pythonhosted.org/packages/89/db/e18cfd78e408de957821ec5ca56de1250645b05f8523d169803d8df35a64/pyspark-3.1.2.tar.gz (212.4MB)\n",
            "\u001b[K     |████████████████████████████████| 212.4MB 64kB/s \n",
            "\u001b[?25hCollecting py4j==0.10.9\n",
            "\u001b[?25l  Downloading https://files.pythonhosted.org/packages/9e/b6/6a4fb90cd235dc8e265a6a2067f2a2c99f0d91787f06aca4bcf7c23f3f80/py4j-0.10.9-py2.py3-none-any.whl (198kB)\n",
            "\u001b[K     |████████████████████████████████| 204kB 19.2MB/s \n",
            "\u001b[?25hBuilding wheels for collected packages: pyspark\n",
            "  Building wheel for pyspark (setup.py) ... \u001b[?25l\u001b[?25hdone\n",
            "  Created wheel for pyspark: filename=pyspark-3.1.2-py2.py3-none-any.whl size=212880768 sha256=34ceaf8443694d92a44155099a8228953a7288aad0f36f5f988c7de697951586\n",
            "  Stored in directory: /root/.cache/pip/wheels/40/1b/2c/30f43be2627857ab80062bef1527c0128f7b4070b6b2d02139\n",
            "Successfully built pyspark\n",
            "Installing collected packages: py4j, pyspark\n",
            "Successfully installed py4j-0.10.9 pyspark-3.1.2\n"
          ],
          "name": "stdout"
        }
      ]
    },
    {
      "cell_type": "code",
      "metadata": {
        "id": "Gc-GzCP1Tib8"
      },
      "source": [
        "from pyspark.sql import SparkSession\n",
        "from pyspark.sql.functions import to_date, isnan, count, col, when, year, month, sum as _sum, create_map, lit\n",
        "import calendar\n",
        "from itertools import chain"
      ],
      "execution_count": null,
      "outputs": []
    },
    {
      "cell_type": "code",
      "metadata": {
        "id": "nShTQwihTuUg"
      },
      "source": [
        "spark = SparkSession.builder.appName('FHDAL1Code').getOrCreate()"
      ],
      "execution_count": null,
      "outputs": []
    },
    {
      "cell_type": "code",
      "metadata": {
        "id": "Dvh8nJG9T_j7",
        "colab": {
          "base_uri": "https://localhost:8080/",
          "height": 222
        },
        "outputId": "d13de866-926f-423a-f9b4-64a720b96271"
      },
      "source": [
        "spark"
      ],
      "execution_count": null,
      "outputs": [
        {
          "output_type": "execute_result",
          "data": {
            "text/html": [
              "\n",
              "            <div>\n",
              "                <p><b>SparkSession - in-memory</b></p>\n",
              "                \n",
              "        <div>\n",
              "            <p><b>SparkContext</b></p>\n",
              "\n",
              "            <p><a href=\"http://792cb1d86b2e:4040\">Spark UI</a></p>\n",
              "\n",
              "            <dl>\n",
              "              <dt>Version</dt>\n",
              "                <dd><code>v3.1.2</code></dd>\n",
              "              <dt>Master</dt>\n",
              "                <dd><code>local[*]</code></dd>\n",
              "              <dt>AppName</dt>\n",
              "                <dd><code>FHDAL1Code</code></dd>\n",
              "            </dl>\n",
              "        </div>\n",
              "        \n",
              "            </div>\n",
              "        "
            ],
            "text/plain": [
              "<pyspark.sql.session.SparkSession at 0x7f861724ffd0>"
            ]
          },
          "metadata": {
            "tags": []
          },
          "execution_count": 4
        }
      ]
    },
    {
      "cell_type": "code",
      "metadata": {
        "id": "8qg5CkhLVIOj"
      },
      "source": [
        "df = spark.read.csv('drive/MyDrive/FoodHubDA/orders_test.csv',header=True,inferSchema=True)\n",
        "df_customer = spark.read.csv('drive/MyDrive/FoodHubDA/customer_test.csv',header=True,inferSchema=True)\n",
        "df_store = spark.read.csv('drive/MyDrive/FoodHubDA/store_test.csv',header=True,inferSchema=True)"
      ],
      "execution_count": null,
      "outputs": []
    },
    {
      "cell_type": "markdown",
      "metadata": {
        "id": "pzO0q3ZNiT05"
      },
      "source": [
        "Customer Dataframe Schema"
      ]
    },
    {
      "cell_type": "code",
      "metadata": {
        "id": "2VUKgubug8f9",
        "colab": {
          "base_uri": "https://localhost:8080/"
        },
        "outputId": "cef55be9-9ba1-4a88-9758-538b5f1877fa"
      },
      "source": [
        "df_customer.printSchema()"
      ],
      "execution_count": null,
      "outputs": [
        {
          "output_type": "stream",
          "text": [
            "root\n",
            " |-- id: integer (nullable = true)\n",
            " |-- first_name: string (nullable = true)\n",
            " |-- last_name: string (nullable = true)\n",
            " |-- email: string (nullable = true)\n",
            "\n"
          ],
          "name": "stdout"
        }
      ]
    },
    {
      "cell_type": "markdown",
      "metadata": {
        "id": "fjumYZ4OiYp-"
      },
      "source": [
        "Order Dataframe Schema"
      ]
    },
    {
      "cell_type": "code",
      "metadata": {
        "id": "uIdBv84TXZIA",
        "colab": {
          "base_uri": "https://localhost:8080/"
        },
        "outputId": "59b6ae84-e541-4c69-f794-3c0972ca3763"
      },
      "source": [
        "df.printSchema()"
      ],
      "execution_count": null,
      "outputs": [
        {
          "output_type": "stream",
          "text": [
            "root\n",
            " |-- id: integer (nullable = true)\n",
            " |-- total: double (nullable = true)\n",
            " |-- customer_id: integer (nullable = true)\n",
            " |-- store_id: integer (nullable = true)\n",
            " |-- order_date: string (nullable = true)\n",
            "\n"
          ],
          "name": "stdout"
        }
      ]
    },
    {
      "cell_type": "markdown",
      "metadata": {
        "id": "Ldqohfncicno"
      },
      "source": [
        "Store dataframe schema"
      ]
    },
    {
      "cell_type": "code",
      "metadata": {
        "id": "P0fjygfThvHu",
        "colab": {
          "base_uri": "https://localhost:8080/"
        },
        "outputId": "c7f27733-e088-45f3-efbc-7a3b50a5b587"
      },
      "source": [
        "df_store.printSchema()"
      ],
      "execution_count": null,
      "outputs": [
        {
          "output_type": "stream",
          "text": [
            "root\n",
            " |-- id: string (nullable = true)\n",
            " |-- name: string (nullable = true)\n",
            " |-- address: string (nullable = true)\n",
            "\n"
          ],
          "name": "stdout"
        }
      ]
    },
    {
      "cell_type": "code",
      "metadata": {
        "id": "oIaY-VK8hCC-",
        "colab": {
          "base_uri": "https://localhost:8080/"
        },
        "outputId": "a28c0f40-b3ea-47ee-8d3e-7bc9b7a1aad5"
      },
      "source": [
        "df_customer.columns"
      ],
      "execution_count": null,
      "outputs": [
        {
          "output_type": "execute_result",
          "data": {
            "text/plain": [
              "['id', 'first_name', 'last_name', 'email']"
            ]
          },
          "metadata": {
            "tags": []
          },
          "execution_count": 9
        }
      ]
    },
    {
      "cell_type": "code",
      "metadata": {
        "id": "ojoGqqJbhGLl",
        "colab": {
          "base_uri": "https://localhost:8080/"
        },
        "outputId": "346093a7-92ee-446e-aca7-a17c1e707085"
      },
      "source": [
        "df.columns"
      ],
      "execution_count": null,
      "outputs": [
        {
          "output_type": "execute_result",
          "data": {
            "text/plain": [
              "['id', 'total', 'customer_id', 'store_id', 'order_date']"
            ]
          },
          "metadata": {
            "tags": []
          },
          "execution_count": 10
        }
      ]
    },
    {
      "cell_type": "code",
      "metadata": {
        "id": "DkQzcDbkh3s4",
        "colab": {
          "base_uri": "https://localhost:8080/"
        },
        "outputId": "7627b4b8-17fd-4eb6-9266-0bb84f4db044"
      },
      "source": [
        "df_store.columns"
      ],
      "execution_count": null,
      "outputs": [
        {
          "output_type": "execute_result",
          "data": {
            "text/plain": [
              "['id', 'name', 'address']"
            ]
          },
          "metadata": {
            "tags": []
          },
          "execution_count": 11
        }
      ]
    },
    {
      "cell_type": "markdown",
      "metadata": {
        "id": "lftlSNXXi1c-"
      },
      "source": [
        "First 5 rows of order dataframe"
      ]
    },
    {
      "cell_type": "code",
      "metadata": {
        "id": "vWVSV4W7XgZm",
        "colab": {
          "base_uri": "https://localhost:8080/"
        },
        "outputId": "e157bd9a-b9ae-4fd2-a578-6d66da57bbb5"
      },
      "source": [
        "df.show(5)"
      ],
      "execution_count": null,
      "outputs": [
        {
          "output_type": "stream",
          "text": [
            "+---+-----+-----------+--------+----------+\n",
            "| id|total|customer_id|store_id|order_date|\n",
            "+---+-----+-----------+--------+----------+\n",
            "|  1|19.36|         21|       1|2020-03-03|\n",
            "|  2| 8.85|         88|       8|2020-04-02|\n",
            "|  3| 5.53|         41|       3|2020-03-03|\n",
            "|  4| 12.9|         96|       8|2020-03-15|\n",
            "|  5| 8.19|         25|       7|2020-01-21|\n",
            "+---+-----+-----------+--------+----------+\n",
            "only showing top 5 rows\n",
            "\n"
          ],
          "name": "stdout"
        }
      ]
    },
    {
      "cell_type": "markdown",
      "metadata": {
        "id": "8xQ7k27njINO"
      },
      "source": [
        "First 5 rows of Customer Dataframe"
      ]
    },
    {
      "cell_type": "code",
      "metadata": {
        "id": "f5jnlPumi-QL",
        "colab": {
          "base_uri": "https://localhost:8080/"
        },
        "outputId": "ba513bf0-6e9c-4444-dd64-a63d9af9fcb8"
      },
      "source": [
        "df_customer.show(5)"
      ],
      "execution_count": null,
      "outputs": [
        {
          "output_type": "stream",
          "text": [
            "+---+----------+---------+--------------------+\n",
            "| id|first_name|last_name|               email|\n",
            "+---+----------+---------+--------------------+\n",
            "|  1|      Sara|  Ramirez|samantha67@yahoo.com|\n",
            "|  2|    Joshua|  Jimenez|richardtimothy@ho...|\n",
            "|  3|    Nicole|  Navarro|nicholsonwilliam@...|\n",
            "|  4|      John| Anderson|jenniferhowell@ya...|\n",
            "|  5|Alexandria| Alvarado|sjohnston@young-b...|\n",
            "+---+----------+---------+--------------------+\n",
            "only showing top 5 rows\n",
            "\n"
          ],
          "name": "stdout"
        }
      ]
    },
    {
      "cell_type": "markdown",
      "metadata": {
        "id": "NQ2JHnW6jOxX"
      },
      "source": [
        "first 5 rows of store dataframe"
      ]
    },
    {
      "cell_type": "code",
      "metadata": {
        "id": "Ey9ffPYWjFKG",
        "colab": {
          "base_uri": "https://localhost:8080/"
        },
        "outputId": "3d46aa9d-f38d-4b56-ab03-374ab8cbd67e"
      },
      "source": [
        "df_store.show(5)"
      ],
      "execution_count": null,
      "outputs": [
        {
          "output_type": "stream",
          "text": [
            "+-------------+------------+------------------+\n",
            "|           id|        name|           address|\n",
            "+-------------+------------+------------------+\n",
            "|            1|  Valdez Inc|18321 Joseph Lodge|\n",
            "|Christineland|   NH 69026\"|              null|\n",
            "|            2|Stevens-Barr|Unit 0902 Box 4445|\n",
            "|DPO AE 19637\"|        null|              null|\n",
            "|            3|  Taylor Ltd|  3433 Hill Forest|\n",
            "+-------------+------------+------------------+\n",
            "only showing top 5 rows\n",
            "\n"
          ],
          "name": "stdout"
        }
      ]
    },
    {
      "cell_type": "markdown",
      "metadata": {
        "id": "aEsVeQCpsB1k"
      },
      "source": [
        "Count Of Both Null and Missing values of Order Dataframe"
      ]
    },
    {
      "cell_type": "code",
      "metadata": {
        "id": "PCE0SzijrS-c",
        "colab": {
          "base_uri": "https://localhost:8080/"
        },
        "outputId": "261a02db-2bca-4e22-97b6-9d6d08875f62"
      },
      "source": [
        "df.select([count(when(isnan(c) | col(c).isNull(), c)).alias(c) for c in df.columns]).show()"
      ],
      "execution_count": null,
      "outputs": [
        {
          "output_type": "stream",
          "text": [
            "+---+-----+-----------+--------+----------+\n",
            "| id|total|customer_id|store_id|order_date|\n",
            "+---+-----+-----------+--------+----------+\n",
            "|  0|    0|          0|       0|         0|\n",
            "+---+-----+-----------+--------+----------+\n",
            "\n"
          ],
          "name": "stdout"
        }
      ]
    },
    {
      "cell_type": "markdown",
      "metadata": {
        "id": "sSPszz2rjmMU"
      },
      "source": [
        "Count Of Both Null and Missing values of Customer Dataframe"
      ]
    },
    {
      "cell_type": "code",
      "metadata": {
        "id": "g7LsiwR5jY_1",
        "colab": {
          "base_uri": "https://localhost:8080/"
        },
        "outputId": "2c8f35e2-8451-4154-fea7-4d69990bcf03"
      },
      "source": [
        "df_customer.select([count(when(isnan(c) | col(c).isNull(), c)).alias(c) for c in df_customer.columns]).show()"
      ],
      "execution_count": null,
      "outputs": [
        {
          "output_type": "stream",
          "text": [
            "+---+----------+---------+-----+\n",
            "| id|first_name|last_name|email|\n",
            "+---+----------+---------+-----+\n",
            "|  0|         0|        0|    0|\n",
            "+---+----------+---------+-----+\n",
            "\n"
          ],
          "name": "stdout"
        }
      ]
    },
    {
      "cell_type": "markdown",
      "metadata": {
        "id": "0RoiECTvjppm"
      },
      "source": [
        "Count Of Both Null and Missing values of Store Dataframe"
      ]
    },
    {
      "cell_type": "code",
      "metadata": {
        "id": "ABWCnJS2jhAS",
        "colab": {
          "base_uri": "https://localhost:8080/"
        },
        "outputId": "7ffaf67e-64d2-4fdc-957f-f0663c080ac2"
      },
      "source": [
        "df_store.select([count(when(isnan(c) | col(c).isNull(), c)).alias(c) for c in df_store.columns]).show()"
      ],
      "execution_count": null,
      "outputs": [
        {
          "output_type": "stream",
          "text": [
            "+---+----+-------+\n",
            "| id|name|address|\n",
            "+---+----+-------+\n",
            "|  0|   2|     10|\n",
            "+---+----+-------+\n",
            "\n"
          ],
          "name": "stdout"
        }
      ]
    },
    {
      "cell_type": "markdown",
      "metadata": {
        "id": "CLlh3KBDkel_"
      },
      "source": [
        "There is no null or missing values in all dataframe\n",
        "\n"
      ]
    },
    {
      "cell_type": "markdown",
      "metadata": {
        "id": "KuwAsFT8miN-"
      },
      "source": [
        "Conversion of Order Date Column to get the Month name"
      ]
    },
    {
      "cell_type": "code",
      "metadata": {
        "id": "FrfusGqbmB_6"
      },
      "source": [
        "df = df.withColumn('order_date_1',to_date(\"order_date\"))\n",
        "df = df.withColumn('YEAR',year(\"order_date_1\"))\n",
        "df = df.withColumn('INTMONTH',month(\"order_date_1\"))"
      ],
      "execution_count": null,
      "outputs": []
    },
    {
      "cell_type": "code",
      "metadata": {
        "id": "1is6uZRn1TGQ",
        "colab": {
          "base_uri": "https://localhost:8080/"
        },
        "outputId": "983d6fb2-35a3-4b67-f529-93080a1e4752"
      },
      "source": [
        "df.printSchema()"
      ],
      "execution_count": null,
      "outputs": [
        {
          "output_type": "stream",
          "text": [
            "root\n",
            " |-- id: integer (nullable = true)\n",
            " |-- total: double (nullable = true)\n",
            " |-- customer_id: integer (nullable = true)\n",
            " |-- store_id: integer (nullable = true)\n",
            " |-- order_date: string (nullable = true)\n",
            " |-- order_date_1: date (nullable = true)\n",
            " |-- YEAR: integer (nullable = true)\n",
            " |-- INTMONTH: integer (nullable = true)\n",
            "\n"
          ],
          "name": "stdout"
        }
      ]
    },
    {
      "cell_type": "code",
      "metadata": {
        "id": "JQLFXeGu1XPZ",
        "colab": {
          "base_uri": "https://localhost:8080/"
        },
        "outputId": "8e0dc3a8-4608-4021-f125-5efec0efabc2"
      },
      "source": [
        "df.show(5)"
      ],
      "execution_count": null,
      "outputs": [
        {
          "output_type": "stream",
          "text": [
            "+---+-----+-----------+--------+----------+------------+----+--------+\n",
            "| id|total|customer_id|store_id|order_date|order_date_1|YEAR|INTMONTH|\n",
            "+---+-----+-----------+--------+----------+------------+----+--------+\n",
            "|  1|19.36|         21|       1|2020-03-03|  2020-03-03|2020|       3|\n",
            "|  2| 8.85|         88|       8|2020-04-02|  2020-04-02|2020|       4|\n",
            "|  3| 5.53|         41|       3|2020-03-03|  2020-03-03|2020|       3|\n",
            "|  4| 12.9|         96|       8|2020-03-15|  2020-03-15|2020|       3|\n",
            "|  5| 8.19|         25|       7|2020-01-21|  2020-01-21|2020|       1|\n",
            "+---+-----+-----------+--------+----------+------------+----+--------+\n",
            "only showing top 5 rows\n",
            "\n"
          ],
          "name": "stdout"
        }
      ]
    },
    {
      "cell_type": "code",
      "metadata": {
        "id": "EydShOrOxsad",
        "colab": {
          "base_uri": "https://localhost:8080/"
        },
        "outputId": "47ae0afb-8bf5-477d-9dab-471057e3e4b6"
      },
      "source": [
        "monthDict = dict((index,month) \\\n",
        "            for index, month in enumerate(calendar.month_name) \\\n",
        "            if month)\n",
        "\n",
        "for _ in monthDict.items():\n",
        "    print(_)"
      ],
      "execution_count": null,
      "outputs": [
        {
          "output_type": "stream",
          "text": [
            "(1, 'January')\n",
            "(2, 'February')\n",
            "(3, 'March')\n",
            "(4, 'April')\n",
            "(5, 'May')\n",
            "(6, 'June')\n",
            "(7, 'July')\n",
            "(8, 'August')\n",
            "(9, 'September')\n",
            "(10, 'October')\n",
            "(11, 'November')\n",
            "(12, 'December')\n"
          ],
          "name": "stdout"
        }
      ]
    },
    {
      "cell_type": "code",
      "metadata": {
        "id": "sryKcYlgLgYz"
      },
      "source": [
        "mapping = create_map([lit(x) for x in chain(*monthDict.items())])\n",
        "df = df.withColumn('MONTH',mapping[df['INTMONTH']])"
      ],
      "execution_count": null,
      "outputs": []
    },
    {
      "cell_type": "code",
      "metadata": {
        "id": "8z1LuXU9NuR0",
        "colab": {
          "base_uri": "https://localhost:8080/"
        },
        "outputId": "025de099-d62c-4ba8-e402-c56aedfa9a61"
      },
      "source": [
        "df.show(5)"
      ],
      "execution_count": null,
      "outputs": [
        {
          "output_type": "stream",
          "text": [
            "+---+-----+-----------+--------+----------+------------+----+--------+-------+\n",
            "| id|total|customer_id|store_id|order_date|order_date_1|YEAR|INTMONTH|  MONTH|\n",
            "+---+-----+-----------+--------+----------+------------+----+--------+-------+\n",
            "|  1|19.36|         21|       1|2020-03-03|  2020-03-03|2020|       3|  March|\n",
            "|  2| 8.85|         88|       8|2020-04-02|  2020-04-02|2020|       4|  April|\n",
            "|  3| 5.53|         41|       3|2020-03-03|  2020-03-03|2020|       3|  March|\n",
            "|  4| 12.9|         96|       8|2020-03-15|  2020-03-15|2020|       3|  March|\n",
            "|  5| 8.19|         25|       7|2020-01-21|  2020-01-21|2020|       1|January|\n",
            "+---+-----+-----------+--------+----------+------------+----+--------+-------+\n",
            "only showing top 5 rows\n",
            "\n"
          ],
          "name": "stdout"
        }
      ]
    },
    {
      "cell_type": "code",
      "metadata": {
        "id": "o8tyv1U08aYw",
        "colab": {
          "base_uri": "https://localhost:8080/"
        },
        "outputId": "67a353fe-b8be-4a33-ac29-3877187370cd"
      },
      "source": [
        "df = df.select(['id','total','customer_id','store_id','YEAR','MONTH'])\n",
        "df.printSchema()"
      ],
      "execution_count": null,
      "outputs": [
        {
          "output_type": "stream",
          "text": [
            "root\n",
            " |-- id: integer (nullable = true)\n",
            " |-- total: double (nullable = true)\n",
            " |-- customer_id: integer (nullable = true)\n",
            " |-- store_id: integer (nullable = true)\n",
            " |-- YEAR: integer (nullable = true)\n",
            " |-- MONTH: string (nullable = true)\n",
            "\n"
          ],
          "name": "stdout"
        }
      ]
    },
    {
      "cell_type": "markdown",
      "metadata": {
        "id": "zNBhRZsOmyAY"
      },
      "source": [
        "Final Dataframe, required for solution of Question1"
      ]
    },
    {
      "cell_type": "code",
      "metadata": {
        "id": "ooifAQia8sr4",
        "colab": {
          "base_uri": "https://localhost:8080/"
        },
        "outputId": "a13ec20d-58e9-4d9b-bb18-de08306b4e85"
      },
      "source": [
        "df.show(5)"
      ],
      "execution_count": null,
      "outputs": [
        {
          "output_type": "stream",
          "text": [
            "+---+-----+-----------+--------+----+-------+\n",
            "| id|total|customer_id|store_id|YEAR|  MONTH|\n",
            "+---+-----+-----------+--------+----+-------+\n",
            "|  1|19.36|         21|       1|2020|  March|\n",
            "|  2| 8.85|         88|       8|2020|  April|\n",
            "|  3| 5.53|         41|       3|2020|  March|\n",
            "|  4| 12.9|         96|       8|2020|  March|\n",
            "|  5| 8.19|         25|       7|2020|January|\n",
            "+---+-----+-----------+--------+----+-------+\n",
            "only showing top 5 rows\n",
            "\n"
          ],
          "name": "stdout"
        }
      ]
    },
    {
      "cell_type": "markdown",
      "metadata": {
        "id": "d02g5DXsnENf"
      },
      "source": [
        "Aggregate table showingthe total orders and revenueeach store had each month"
      ]
    },
    {
      "cell_type": "code",
      "metadata": {
        "id": "Fh14U3Q1F7_x",
        "colab": {
          "base_uri": "https://localhost:8080/"
        },
        "outputId": "9bddc3c8-3f1f-4c20-ee8d-2e48215816e3"
      },
      "source": [
        "df.groupBy(['YEAR','MONTH','store_id'])\\\n",
        "       .agg(count('total'),_sum('total'))\\\n",
        "       .withColumnRenamed('count(total)','NumberOfOrders')\\\n",
        "       .withColumnRenamed('sum(total)','TotalRevenue')\\\n",
        "       .orderBy(['YEAR','MONTH','store_id'])\\\n",
        "       .show()"
      ],
      "execution_count": null,
      "outputs": [
        {
          "output_type": "stream",
          "text": [
            "+----+--------+--------+--------------+------------------+\n",
            "|YEAR|   MONTH|store_id|NumberOfOrders|      TotalRevenue|\n",
            "+----+--------+--------+--------------+------------------+\n",
            "|2020|   April|       1|            26|406.60999999999996|\n",
            "|2020|   April|       2|            24|            343.31|\n",
            "|2020|   April|       3|            24| 393.1499999999999|\n",
            "|2020|   April|       4|            27|            354.82|\n",
            "|2020|   April|       5|            30| 416.1200000000001|\n",
            "|2020|   April|       6|            20|391.17999999999995|\n",
            "|2020|   April|       7|            25|            391.25|\n",
            "|2020|   April|       8|            23|361.03999999999996|\n",
            "|2020|   April|       9|            24|319.28999999999996|\n",
            "|2020|   April|      10|            26|366.11999999999995|\n",
            "|2020|February|       1|            25|            383.29|\n",
            "|2020|February|       2|            24|322.04999999999995|\n",
            "|2020|February|       3|            27| 343.6599999999999|\n",
            "|2020|February|       4|            24|436.31000000000006|\n",
            "|2020|February|       5|            22|            439.02|\n",
            "|2020|February|       6|            19|274.21000000000004|\n",
            "|2020|February|       7|            22|381.17999999999995|\n",
            "|2020|February|       8|            33| 442.7400000000002|\n",
            "|2020|February|       9|            25|             342.6|\n",
            "|2020|February|      10|            26| 404.1799999999999|\n",
            "+----+--------+--------+--------------+------------------+\n",
            "only showing top 20 rows\n",
            "\n"
          ],
          "name": "stdout"
        }
      ]
    },
    {
      "cell_type": "markdown",
      "metadata": {
        "id": "yc_Y96S0nNem"
      },
      "source": [
        "a list of users who have placed less than 10 orders"
      ]
    },
    {
      "cell_type": "code",
      "metadata": {
        "id": "fQ596CLVd_tG",
        "colab": {
          "base_uri": "https://localhost:8080/"
        },
        "outputId": "753a7c80-4e6d-4c1c-e43e-aeb7043f0ee2"
      },
      "source": [
        "df.groupBy('customer_id')\\\n",
        "  .agg(count('id'))\\\n",
        "  .where(col('count(id)')<10)\\\n",
        "  .show()"
      ],
      "execution_count": null,
      "outputs": [
        {
          "output_type": "stream",
          "text": [
            "+-----------+---------+\n",
            "|customer_id|count(id)|\n",
            "+-----------+---------+\n",
            "|         85|        6|\n",
            "|         65|        7|\n",
            "|         53|        9|\n",
            "|         28|        7|\n",
            "|         27|        9|\n",
            "|         44|        5|\n",
            "|         12|        8|\n",
            "|         93|        7|\n",
            "|         47|        6|\n",
            "|          1|        9|\n",
            "|         13|        5|\n",
            "|         86|        7|\n",
            "|         20|        9|\n",
            "|         40|        7|\n",
            "|         57|        9|\n",
            "|         48|        9|\n",
            "|          5|        4|\n",
            "|         19|        5|\n",
            "|         64|        6|\n",
            "|         15|        9|\n",
            "+-----------+---------+\n",
            "only showing top 20 rows\n",
            "\n"
          ],
          "name": "stdout"
        }
      ]
    }
  ]
}