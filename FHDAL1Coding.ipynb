{
  "nbformat": 4,
  "nbformat_minor": 0,
  "metadata": {
    "colab": {
      "name": "FHDAL1Coding.ipynb",
      "provenance": [],
      "collapsed_sections": [],
      "mount_file_id": "1zdZR043HVUB0lLW2JY9WoRGAf59sHoNx",
      "authorship_tag": "ABX9TyOwcot2Gl1e40750uD2/vJx",
      "include_colab_link": true
    },
    "kernelspec": {
      "name": "python3",
      "display_name": "Python 3"
    },
    "language_info": {
      "name": "python"
    }
  },
  "cells": [
    {
      "cell_type": "markdown",
      "metadata": {
        "id": "view-in-github",
        "colab_type": "text"
      },
      "source": [
        "<a href=\"https://colab.research.google.com/github/jagatabhay/pysparktest/blob/main/FHDAL1Coding.ipynb\" target=\"_parent\"><img src=\"https://colab.research.google.com/assets/colab-badge.svg\" alt=\"Open In Colab\"/></a>"
      ]
    },
    {
      "cell_type": "code",
      "metadata": {
        "colab": {
          "base_uri": "https://localhost:8080/"
        },
        "id": "MTN7ejEDTHb4",
        "outputId": "9d603eda-599b-41fd-d111-66ba90fbf467"
      },
      "source": [
        "!pip install pyspark"
      ],
      "execution_count": 1,
      "outputs": [
        {
          "output_type": "stream",
          "text": [
            "Collecting pyspark\n",
            "\u001b[?25l  Downloading https://files.pythonhosted.org/packages/89/db/e18cfd78e408de957821ec5ca56de1250645b05f8523d169803d8df35a64/pyspark-3.1.2.tar.gz (212.4MB)\n",
            "\u001b[K     |████████████████████████████████| 212.4MB 66kB/s \n",
            "\u001b[?25hCollecting py4j==0.10.9\n",
            "\u001b[?25l  Downloading https://files.pythonhosted.org/packages/9e/b6/6a4fb90cd235dc8e265a6a2067f2a2c99f0d91787f06aca4bcf7c23f3f80/py4j-0.10.9-py2.py3-none-any.whl (198kB)\n",
            "\u001b[K     |████████████████████████████████| 204kB 18.2MB/s \n",
            "\u001b[?25hBuilding wheels for collected packages: pyspark\n",
            "  Building wheel for pyspark (setup.py) ... \u001b[?25l\u001b[?25hdone\n",
            "  Created wheel for pyspark: filename=pyspark-3.1.2-py2.py3-none-any.whl size=212880768 sha256=ffdc9edc05c92b379a9538ef4a0e613caf998421016c7594fb0ec6d1107dc57b\n",
            "  Stored in directory: /root/.cache/pip/wheels/40/1b/2c/30f43be2627857ab80062bef1527c0128f7b4070b6b2d02139\n",
            "Successfully built pyspark\n",
            "Installing collected packages: py4j, pyspark\n",
            "Successfully installed py4j-0.10.9 pyspark-3.1.2\n"
          ],
          "name": "stdout"
        }
      ]
    },
    {
      "cell_type": "code",
      "metadata": {
        "id": "Gc-GzCP1Tib8"
      },
      "source": [
        "from pyspark.sql import SparkSession\n",
        "from pyspark.sql.functions import to_date, isnan, count, col, \\\n",
        "                                  when, year, month, sum as _sum, create_map, lit, udf, md5\n",
        "import calendar\n",
        "from itertools import chain"
      ],
      "execution_count": 2,
      "outputs": []
    },
    {
      "cell_type": "code",
      "metadata": {
        "id": "nShTQwihTuUg"
      },
      "source": [
        "spark = SparkSession.builder.appName('FHDAL1Code').getOrCreate()"
      ],
      "execution_count": 3,
      "outputs": []
    },
    {
      "cell_type": "code",
      "metadata": {
        "id": "Dvh8nJG9T_j7",
        "colab": {
          "base_uri": "https://localhost:8080/",
          "height": 222
        },
        "outputId": "631ce7d1-800d-4d12-960f-0ffbad9b3053"
      },
      "source": [
        "spark"
      ],
      "execution_count": 4,
      "outputs": [
        {
          "output_type": "execute_result",
          "data": {
            "text/html": [
              "\n",
              "            <div>\n",
              "                <p><b>SparkSession - in-memory</b></p>\n",
              "                \n",
              "        <div>\n",
              "            <p><b>SparkContext</b></p>\n",
              "\n",
              "            <p><a href=\"http://58700d010b27:4040\">Spark UI</a></p>\n",
              "\n",
              "            <dl>\n",
              "              <dt>Version</dt>\n",
              "                <dd><code>v3.1.2</code></dd>\n",
              "              <dt>Master</dt>\n",
              "                <dd><code>local[*]</code></dd>\n",
              "              <dt>AppName</dt>\n",
              "                <dd><code>FHDAL1Code</code></dd>\n",
              "            </dl>\n",
              "        </div>\n",
              "        \n",
              "            </div>\n",
              "        "
            ],
            "text/plain": [
              "<pyspark.sql.session.SparkSession at 0x7f71cd1c56d0>"
            ]
          },
          "metadata": {
            "tags": []
          },
          "execution_count": 4
        }
      ]
    },
    {
      "cell_type": "code",
      "metadata": {
        "id": "8qg5CkhLVIOj"
      },
      "source": [
        "df = spark.read.csv('drive/MyDrive/FoodHubDA/orders_test.csv',header=True,inferSchema=True)\n",
        "df_customer = spark.read.csv('drive/MyDrive/FoodHubDA/customer_test.csv',header=True,inferSchema=True)\n",
        "df_store = spark.read.csv('drive/MyDrive/FoodHubDA/store_test.csv',header=True,inferSchema=True)"
      ],
      "execution_count": 5,
      "outputs": []
    },
    {
      "cell_type": "code",
      "metadata": {
        "id": "u2N9C83SyHHA"
      },
      "source": [
        "df_customer = df_customer.withColumn('EncryEmail',md5('email'))\n",
        "df_customer = df_customer.withColumnRenamed('id','customer_id')\n",
        "df_store = df_store.withColumnRenamed('id','store_id')"
      ],
      "execution_count": 6,
      "outputs": []
    },
    {
      "cell_type": "markdown",
      "metadata": {
        "id": "pzO0q3ZNiT05"
      },
      "source": [
        "Customer Dataframe Schema"
      ]
    },
    {
      "cell_type": "code",
      "metadata": {
        "id": "2VUKgubug8f9",
        "colab": {
          "base_uri": "https://localhost:8080/"
        },
        "outputId": "a3453f18-eef3-4bd7-f620-fefbd7dfc44c"
      },
      "source": [
        "df_customer.printSchema()"
      ],
      "execution_count": 7,
      "outputs": [
        {
          "output_type": "stream",
          "text": [
            "root\n",
            " |-- customer_id: integer (nullable = true)\n",
            " |-- first_name: string (nullable = true)\n",
            " |-- last_name: string (nullable = true)\n",
            " |-- email: string (nullable = true)\n",
            " |-- EncryEmail: string (nullable = true)\n",
            "\n"
          ],
          "name": "stdout"
        }
      ]
    },
    {
      "cell_type": "markdown",
      "metadata": {
        "id": "fjumYZ4OiYp-"
      },
      "source": [
        "Order Dataframe Schema"
      ]
    },
    {
      "cell_type": "code",
      "metadata": {
        "id": "uIdBv84TXZIA",
        "colab": {
          "base_uri": "https://localhost:8080/"
        },
        "outputId": "d047a9ee-4111-4420-f25c-96536fb7a295"
      },
      "source": [
        "df.printSchema()"
      ],
      "execution_count": 8,
      "outputs": [
        {
          "output_type": "stream",
          "text": [
            "root\n",
            " |-- id: integer (nullable = true)\n",
            " |-- total: double (nullable = true)\n",
            " |-- customer_id: integer (nullable = true)\n",
            " |-- store_id: integer (nullable = true)\n",
            " |-- order_date: string (nullable = true)\n",
            "\n"
          ],
          "name": "stdout"
        }
      ]
    },
    {
      "cell_type": "markdown",
      "metadata": {
        "id": "Ldqohfncicno"
      },
      "source": [
        "Store dataframe schema"
      ]
    },
    {
      "cell_type": "code",
      "metadata": {
        "id": "P0fjygfThvHu",
        "colab": {
          "base_uri": "https://localhost:8080/"
        },
        "outputId": "8a725859-926a-4869-f855-84774a42858a"
      },
      "source": [
        "df_store.printSchema()"
      ],
      "execution_count": 9,
      "outputs": [
        {
          "output_type": "stream",
          "text": [
            "root\n",
            " |-- store_id: string (nullable = true)\n",
            " |-- name: string (nullable = true)\n",
            " |-- address: string (nullable = true)\n",
            "\n"
          ],
          "name": "stdout"
        }
      ]
    },
    {
      "cell_type": "code",
      "metadata": {
        "id": "oIaY-VK8hCC-",
        "colab": {
          "base_uri": "https://localhost:8080/"
        },
        "outputId": "89136d71-4e36-4edf-a7d4-4f9da7ccaaee"
      },
      "source": [
        "df_customer.columns"
      ],
      "execution_count": 10,
      "outputs": [
        {
          "output_type": "execute_result",
          "data": {
            "text/plain": [
              "['customer_id', 'first_name', 'last_name', 'email', 'EncryEmail']"
            ]
          },
          "metadata": {
            "tags": []
          },
          "execution_count": 10
        }
      ]
    },
    {
      "cell_type": "code",
      "metadata": {
        "id": "ojoGqqJbhGLl",
        "colab": {
          "base_uri": "https://localhost:8080/"
        },
        "outputId": "13152ec2-1293-4be9-e306-3e1f9a27f61c"
      },
      "source": [
        "df.columns"
      ],
      "execution_count": 11,
      "outputs": [
        {
          "output_type": "execute_result",
          "data": {
            "text/plain": [
              "['id', 'total', 'customer_id', 'store_id', 'order_date']"
            ]
          },
          "metadata": {
            "tags": []
          },
          "execution_count": 11
        }
      ]
    },
    {
      "cell_type": "code",
      "metadata": {
        "id": "DkQzcDbkh3s4",
        "colab": {
          "base_uri": "https://localhost:8080/"
        },
        "outputId": "7176115a-f054-469b-8758-9a692dbd8f60"
      },
      "source": [
        "df_store.columns"
      ],
      "execution_count": 12,
      "outputs": [
        {
          "output_type": "execute_result",
          "data": {
            "text/plain": [
              "['store_id', 'name', 'address']"
            ]
          },
          "metadata": {
            "tags": []
          },
          "execution_count": 12
        }
      ]
    },
    {
      "cell_type": "markdown",
      "metadata": {
        "id": "lftlSNXXi1c-"
      },
      "source": [
        "First 5 rows of order dataframe"
      ]
    },
    {
      "cell_type": "code",
      "metadata": {
        "id": "vWVSV4W7XgZm",
        "colab": {
          "base_uri": "https://localhost:8080/"
        },
        "outputId": "ca99c882-ca3c-44f0-8d95-bc467f40504a"
      },
      "source": [
        "df.show(5)"
      ],
      "execution_count": 13,
      "outputs": [
        {
          "output_type": "stream",
          "text": [
            "+---+-----+-----------+--------+----------+\n",
            "| id|total|customer_id|store_id|order_date|\n",
            "+---+-----+-----------+--------+----------+\n",
            "|  1|19.36|         21|       1|2020-03-03|\n",
            "|  2| 8.85|         88|       8|2020-04-02|\n",
            "|  3| 5.53|         41|       3|2020-03-03|\n",
            "|  4| 12.9|         96|       8|2020-03-15|\n",
            "|  5| 8.19|         25|       7|2020-01-21|\n",
            "+---+-----+-----------+--------+----------+\n",
            "only showing top 5 rows\n",
            "\n"
          ],
          "name": "stdout"
        }
      ]
    },
    {
      "cell_type": "markdown",
      "metadata": {
        "id": "8xQ7k27njINO"
      },
      "source": [
        "First 5 rows of Customer Dataframe"
      ]
    },
    {
      "cell_type": "code",
      "metadata": {
        "id": "f5jnlPumi-QL",
        "colab": {
          "base_uri": "https://localhost:8080/"
        },
        "outputId": "f7e543b0-cc2a-4800-ba92-a0523ee30d85"
      },
      "source": [
        "df_customer.show(5)"
      ],
      "execution_count": 14,
      "outputs": [
        {
          "output_type": "stream",
          "text": [
            "+-----------+----------+---------+--------------------+--------------------+\n",
            "|customer_id|first_name|last_name|               email|          EncryEmail|\n",
            "+-----------+----------+---------+--------------------+--------------------+\n",
            "|          1|      Sara|  Ramirez|samantha67@yahoo.com|84d79088d5b6c3377...|\n",
            "|          2|    Joshua|  Jimenez|richardtimothy@ho...|91a1cef7deeb17686...|\n",
            "|          3|    Nicole|  Navarro|nicholsonwilliam@...|1a9da49fcebe50789...|\n",
            "|          4|      John| Anderson|jenniferhowell@ya...|a794eac7ef25e094a...|\n",
            "|          5|Alexandria| Alvarado|sjohnston@young-b...|6c5e7059be20c0fc9...|\n",
            "+-----------+----------+---------+--------------------+--------------------+\n",
            "only showing top 5 rows\n",
            "\n"
          ],
          "name": "stdout"
        }
      ]
    },
    {
      "cell_type": "markdown",
      "metadata": {
        "id": "NQ2JHnW6jOxX"
      },
      "source": [
        "first 5 rows of store dataframe"
      ]
    },
    {
      "cell_type": "code",
      "metadata": {
        "id": "Ey9ffPYWjFKG",
        "colab": {
          "base_uri": "https://localhost:8080/"
        },
        "outputId": "4e380990-af91-4dd6-97ca-a80a024256d9"
      },
      "source": [
        "df_store.show(5)"
      ],
      "execution_count": 15,
      "outputs": [
        {
          "output_type": "stream",
          "text": [
            "+-------------+------------+------------------+\n",
            "|     store_id|        name|           address|\n",
            "+-------------+------------+------------------+\n",
            "|            1|  Valdez Inc|18321 Joseph Lodge|\n",
            "|Christineland|   NH 69026\"|              null|\n",
            "|            2|Stevens-Barr|Unit 0902 Box 4445|\n",
            "|DPO AE 19637\"|        null|              null|\n",
            "|            3|  Taylor Ltd|  3433 Hill Forest|\n",
            "+-------------+------------+------------------+\n",
            "only showing top 5 rows\n",
            "\n"
          ],
          "name": "stdout"
        }
      ]
    },
    {
      "cell_type": "markdown",
      "metadata": {
        "id": "aEsVeQCpsB1k"
      },
      "source": [
        "Count Of Both Null and Missing values of Order Dataframe"
      ]
    },
    {
      "cell_type": "code",
      "metadata": {
        "id": "PCE0SzijrS-c",
        "colab": {
          "base_uri": "https://localhost:8080/"
        },
        "outputId": "e74474c6-a77a-493f-809a-9dc2fa30070e"
      },
      "source": [
        "df.select([count(when(isnan(c) | col(c).isNull(), c)).alias(c) for c in df.columns]).show()"
      ],
      "execution_count": 16,
      "outputs": [
        {
          "output_type": "stream",
          "text": [
            "+---+-----+-----------+--------+----------+\n",
            "| id|total|customer_id|store_id|order_date|\n",
            "+---+-----+-----------+--------+----------+\n",
            "|  0|    0|          0|       0|         0|\n",
            "+---+-----+-----------+--------+----------+\n",
            "\n"
          ],
          "name": "stdout"
        }
      ]
    },
    {
      "cell_type": "markdown",
      "metadata": {
        "id": "sSPszz2rjmMU"
      },
      "source": [
        "Count Of Both Null and Missing values of Customer Dataframe"
      ]
    },
    {
      "cell_type": "code",
      "metadata": {
        "id": "g7LsiwR5jY_1",
        "colab": {
          "base_uri": "https://localhost:8080/"
        },
        "outputId": "b5f6f66d-4470-45cf-bc52-d1bc3e4d9bfb"
      },
      "source": [
        "df_customer.select([count(when(isnan(c) | col(c).isNull(), c)).alias(c) for c in df_customer.columns]).show()"
      ],
      "execution_count": 17,
      "outputs": [
        {
          "output_type": "stream",
          "text": [
            "+-----------+----------+---------+-----+----------+\n",
            "|customer_id|first_name|last_name|email|EncryEmail|\n",
            "+-----------+----------+---------+-----+----------+\n",
            "|          0|         0|        0|    0|         0|\n",
            "+-----------+----------+---------+-----+----------+\n",
            "\n"
          ],
          "name": "stdout"
        }
      ]
    },
    {
      "cell_type": "markdown",
      "metadata": {
        "id": "0RoiECTvjppm"
      },
      "source": [
        "Count Of Both Null and Missing values of Store Dataframe"
      ]
    },
    {
      "cell_type": "code",
      "metadata": {
        "id": "ABWCnJS2jhAS",
        "colab": {
          "base_uri": "https://localhost:8080/"
        },
        "outputId": "33d8ae36-6f6b-4736-cbbb-68f7834d4e60"
      },
      "source": [
        "df_store.select([count(when(isnan(c) | col(c).isNull(), c)).alias(c) for c in df_store.columns]).show()"
      ],
      "execution_count": 18,
      "outputs": [
        {
          "output_type": "stream",
          "text": [
            "+--------+----+-------+\n",
            "|store_id|name|address|\n",
            "+--------+----+-------+\n",
            "|       0|   2|     10|\n",
            "+--------+----+-------+\n",
            "\n"
          ],
          "name": "stdout"
        }
      ]
    },
    {
      "cell_type": "markdown",
      "metadata": {
        "id": "CLlh3KBDkel_"
      },
      "source": [
        "There is no null or missing values in all dataframe\n",
        "\n"
      ]
    },
    {
      "cell_type": "markdown",
      "metadata": {
        "id": "KuwAsFT8miN-"
      },
      "source": [
        "Conversion of Order Date Column to get the Month name"
      ]
    },
    {
      "cell_type": "code",
      "metadata": {
        "id": "FrfusGqbmB_6"
      },
      "source": [
        "df = df.withColumn('order_date_1',to_date(\"order_date\"))\n",
        "df = df.withColumn('YEAR',year(\"order_date_1\"))\n",
        "df = df.withColumn('INTMONTH',month(\"order_date_1\"))"
      ],
      "execution_count": 19,
      "outputs": []
    },
    {
      "cell_type": "code",
      "metadata": {
        "id": "1is6uZRn1TGQ",
        "colab": {
          "base_uri": "https://localhost:8080/"
        },
        "outputId": "6393379c-d107-428d-97dd-a56eb5db78e9"
      },
      "source": [
        "df.printSchema()"
      ],
      "execution_count": 20,
      "outputs": [
        {
          "output_type": "stream",
          "text": [
            "root\n",
            " |-- id: integer (nullable = true)\n",
            " |-- total: double (nullable = true)\n",
            " |-- customer_id: integer (nullable = true)\n",
            " |-- store_id: integer (nullable = true)\n",
            " |-- order_date: string (nullable = true)\n",
            " |-- order_date_1: date (nullable = true)\n",
            " |-- YEAR: integer (nullable = true)\n",
            " |-- INTMONTH: integer (nullable = true)\n",
            "\n"
          ],
          "name": "stdout"
        }
      ]
    },
    {
      "cell_type": "code",
      "metadata": {
        "id": "JQLFXeGu1XPZ",
        "colab": {
          "base_uri": "https://localhost:8080/"
        },
        "outputId": "988b77b3-1e6e-4228-d569-5f51c0530b09"
      },
      "source": [
        "df.show(5)"
      ],
      "execution_count": 21,
      "outputs": [
        {
          "output_type": "stream",
          "text": [
            "+---+-----+-----------+--------+----------+------------+----+--------+\n",
            "| id|total|customer_id|store_id|order_date|order_date_1|YEAR|INTMONTH|\n",
            "+---+-----+-----------+--------+----------+------------+----+--------+\n",
            "|  1|19.36|         21|       1|2020-03-03|  2020-03-03|2020|       3|\n",
            "|  2| 8.85|         88|       8|2020-04-02|  2020-04-02|2020|       4|\n",
            "|  3| 5.53|         41|       3|2020-03-03|  2020-03-03|2020|       3|\n",
            "|  4| 12.9|         96|       8|2020-03-15|  2020-03-15|2020|       3|\n",
            "|  5| 8.19|         25|       7|2020-01-21|  2020-01-21|2020|       1|\n",
            "+---+-----+-----------+--------+----------+------------+----+--------+\n",
            "only showing top 5 rows\n",
            "\n"
          ],
          "name": "stdout"
        }
      ]
    },
    {
      "cell_type": "code",
      "metadata": {
        "id": "EydShOrOxsad",
        "colab": {
          "base_uri": "https://localhost:8080/"
        },
        "outputId": "2fde3173-25f6-44f5-c224-dc6b8855ab6b"
      },
      "source": [
        "monthDict = dict((index,month) \\\n",
        "            for index, month in enumerate(calendar.month_name) \\\n",
        "            if month)\n",
        "\n",
        "for _ in monthDict.items():\n",
        "    print(_)"
      ],
      "execution_count": 22,
      "outputs": [
        {
          "output_type": "stream",
          "text": [
            "(1, 'January')\n",
            "(2, 'February')\n",
            "(3, 'March')\n",
            "(4, 'April')\n",
            "(5, 'May')\n",
            "(6, 'June')\n",
            "(7, 'July')\n",
            "(8, 'August')\n",
            "(9, 'September')\n",
            "(10, 'October')\n",
            "(11, 'November')\n",
            "(12, 'December')\n"
          ],
          "name": "stdout"
        }
      ]
    },
    {
      "cell_type": "code",
      "metadata": {
        "id": "sryKcYlgLgYz"
      },
      "source": [
        "mapping = create_map([lit(x) for x in chain(*monthDict.items())])\n",
        "df = df.withColumn('MONTH',mapping[df['INTMONTH']])"
      ],
      "execution_count": 23,
      "outputs": []
    },
    {
      "cell_type": "code",
      "metadata": {
        "id": "8z1LuXU9NuR0",
        "colab": {
          "base_uri": "https://localhost:8080/"
        },
        "outputId": "e5aafac0-ee96-4321-ec9d-1426a25611e0"
      },
      "source": [
        "df.show(5)"
      ],
      "execution_count": 24,
      "outputs": [
        {
          "output_type": "stream",
          "text": [
            "+---+-----+-----------+--------+----------+------------+----+--------+-------+\n",
            "| id|total|customer_id|store_id|order_date|order_date_1|YEAR|INTMONTH|  MONTH|\n",
            "+---+-----+-----------+--------+----------+------------+----+--------+-------+\n",
            "|  1|19.36|         21|       1|2020-03-03|  2020-03-03|2020|       3|  March|\n",
            "|  2| 8.85|         88|       8|2020-04-02|  2020-04-02|2020|       4|  April|\n",
            "|  3| 5.53|         41|       3|2020-03-03|  2020-03-03|2020|       3|  March|\n",
            "|  4| 12.9|         96|       8|2020-03-15|  2020-03-15|2020|       3|  March|\n",
            "|  5| 8.19|         25|       7|2020-01-21|  2020-01-21|2020|       1|January|\n",
            "+---+-----+-----------+--------+----------+------------+----+--------+-------+\n",
            "only showing top 5 rows\n",
            "\n"
          ],
          "name": "stdout"
        }
      ]
    },
    {
      "cell_type": "code",
      "metadata": {
        "id": "o8tyv1U08aYw",
        "colab": {
          "base_uri": "https://localhost:8080/"
        },
        "outputId": "a5554003-1473-437f-8204-74378d09df2f"
      },
      "source": [
        "df = df.select(['id','total','customer_id','store_id','YEAR','MONTH'])\n",
        "df.printSchema()"
      ],
      "execution_count": 25,
      "outputs": [
        {
          "output_type": "stream",
          "text": [
            "root\n",
            " |-- id: integer (nullable = true)\n",
            " |-- total: double (nullable = true)\n",
            " |-- customer_id: integer (nullable = true)\n",
            " |-- store_id: integer (nullable = true)\n",
            " |-- YEAR: integer (nullable = true)\n",
            " |-- MONTH: string (nullable = true)\n",
            "\n"
          ],
          "name": "stdout"
        }
      ]
    },
    {
      "cell_type": "markdown",
      "metadata": {
        "id": "zNBhRZsOmyAY"
      },
      "source": [
        "Final Dataframe, required for solution of Question1"
      ]
    },
    {
      "cell_type": "code",
      "metadata": {
        "id": "ooifAQia8sr4",
        "colab": {
          "base_uri": "https://localhost:8080/"
        },
        "outputId": "07d4a4ca-2c3b-4d7a-f4e1-0d8c46acda58"
      },
      "source": [
        "df.show(5)"
      ],
      "execution_count": 26,
      "outputs": [
        {
          "output_type": "stream",
          "text": [
            "+---+-----+-----------+--------+----+-------+\n",
            "| id|total|customer_id|store_id|YEAR|  MONTH|\n",
            "+---+-----+-----------+--------+----+-------+\n",
            "|  1|19.36|         21|       1|2020|  March|\n",
            "|  2| 8.85|         88|       8|2020|  April|\n",
            "|  3| 5.53|         41|       3|2020|  March|\n",
            "|  4| 12.9|         96|       8|2020|  March|\n",
            "|  5| 8.19|         25|       7|2020|January|\n",
            "+---+-----+-----------+--------+----+-------+\n",
            "only showing top 5 rows\n",
            "\n"
          ],
          "name": "stdout"
        }
      ]
    },
    {
      "cell_type": "markdown",
      "metadata": {
        "id": "d02g5DXsnENf"
      },
      "source": [
        "Aggregate table showingthe total orders and revenueeach store had each month"
      ]
    },
    {
      "cell_type": "markdown",
      "metadata": {
        "id": "D71EVgvCBcCR"
      },
      "source": [
        "Answer of Question1"
      ]
    },
    {
      "cell_type": "code",
      "metadata": {
        "colab": {
          "base_uri": "https://localhost:8080/"
        },
        "id": "DP8z-_7HECmF",
        "outputId": "7388d583-81a3-48e3-eb1a-967f417f886e"
      },
      "source": [
        "df2 = df.join(df_store, on=['store_id'], how='inner')\n",
        "df2.select([count(when(isnan(c) | col(c).isNull(), c)).alias(c) for c in df2.columns]).show()"
      ],
      "execution_count": 27,
      "outputs": [
        {
          "output_type": "stream",
          "text": [
            "+--------+---+-----+-----------+----+-----+----+-------+\n",
            "|store_id| id|total|customer_id|YEAR|MONTH|name|address|\n",
            "+--------+---+-----+-----------+----+-----+----+-------+\n",
            "|       0|  0|    0|          0|   0|    0|   0|      0|\n",
            "+--------+---+-----+-----------+----+-----+----+-------+\n",
            "\n"
          ],
          "name": "stdout"
        }
      ]
    },
    {
      "cell_type": "code",
      "metadata": {
        "id": "Fh14U3Q1F7_x",
        "colab": {
          "base_uri": "https://localhost:8080/"
        },
        "outputId": "afb91345-467a-456b-e43f-b82006ef2515"
      },
      "source": [
        "df2.groupBy(['YEAR','MONTH','name'])\\\n",
        "       .agg(count('total'),_sum('total'))\\\n",
        "       .withColumnRenamed('count(total)','NumberOfOrders')\\\n",
        "       .withColumnRenamed('sum(total)','TotalRevenue')\\\n",
        "       .withColumnRenamed('name','StoreName')\\\n",
        "       .orderBy(['YEAR','MONTH'])\\\n",
        "       .show()"
      ],
      "execution_count": 28,
      "outputs": [
        {
          "output_type": "stream",
          "text": [
            "+----+--------+--------------------+--------------+------------------+\n",
            "|YEAR|   MONTH|           StoreName|NumberOfOrders|      TotalRevenue|\n",
            "+----+--------+--------------------+--------------+------------------+\n",
            "|2020|   April|            Hall Inc|            25|            391.25|\n",
            "|2020|   April|Adams, Barrett an...|            27|            354.82|\n",
            "|2020|   April|          Valdez Inc|            26|406.60999999999996|\n",
            "|2020|   April|    Edwards-Mcdaniel|            30| 416.1200000000001|\n",
            "|2020|   April|         Young Group|            26|366.11999999999995|\n",
            "|2020|   April|        Stevens-Barr|            24|            343.31|\n",
            "|2020|   April|Martinez, Marsh a...|            23|361.03999999999996|\n",
            "|2020|   April|          Taylor Ltd|            24| 393.1499999999999|\n",
            "|2020|   April|Henderson, Olson ...|            24|319.28999999999996|\n",
            "|2020|   April|         Scott-Brown|            20|391.17999999999995|\n",
            "|2020|February|Martinez, Marsh a...|            33| 442.7400000000002|\n",
            "|2020|February|Adams, Barrett an...|            24|436.31000000000006|\n",
            "|2020|February|         Young Group|            26| 404.1799999999999|\n",
            "|2020|February|            Hall Inc|            22|381.17999999999995|\n",
            "|2020|February|        Stevens-Barr|            24|322.04999999999995|\n",
            "|2020|February|Henderson, Olson ...|            25|             342.6|\n",
            "|2020|February|          Valdez Inc|            25|            383.29|\n",
            "|2020|February|         Scott-Brown|            19|274.21000000000004|\n",
            "|2020|February|    Edwards-Mcdaniel|            22|            439.02|\n",
            "|2020|February|          Taylor Ltd|            27| 343.6599999999999|\n",
            "+----+--------+--------------------+--------------+------------------+\n",
            "only showing top 20 rows\n",
            "\n"
          ],
          "name": "stdout"
        }
      ]
    },
    {
      "cell_type": "markdown",
      "metadata": {
        "id": "yc_Y96S0nNem"
      },
      "source": [
        "a list of users who have placed less than 10 orders"
      ]
    },
    {
      "cell_type": "markdown",
      "metadata": {
        "id": "evS682c-BsOS"
      },
      "source": [
        "Answer of Question2"
      ]
    },
    {
      "cell_type": "code",
      "metadata": {
        "colab": {
          "base_uri": "https://localhost:8080/"
        },
        "id": "4DXerHJWBqgP",
        "outputId": "46a6798b-9a3d-4c32-91b4-251c90da31bb"
      },
      "source": [
        "df.groupBy('customer_id')\\\n",
        "  .agg(count('id'))\\\n",
        "  .where(col('count(id)')<10)\\\n",
        "  .withColumnRenamed('count(id)','OrderPlacedByUser')\\\n",
        "  .show()"
      ],
      "execution_count": 29,
      "outputs": [
        {
          "output_type": "stream",
          "text": [
            "+-----------+-----------------+\n",
            "|customer_id|OrderPlacedByUser|\n",
            "+-----------+-----------------+\n",
            "|         85|                6|\n",
            "|         65|                7|\n",
            "|         53|                9|\n",
            "|         28|                7|\n",
            "|         27|                9|\n",
            "|         44|                5|\n",
            "|         12|                8|\n",
            "|         93|                7|\n",
            "|         47|                6|\n",
            "|          1|                9|\n",
            "|         13|                5|\n",
            "|         86|                7|\n",
            "|         20|                9|\n",
            "|         40|                7|\n",
            "|         57|                9|\n",
            "|         48|                9|\n",
            "|          5|                4|\n",
            "|         19|                5|\n",
            "|         64|                6|\n",
            "|         15|                9|\n",
            "+-----------+-----------------+\n",
            "only showing top 20 rows\n",
            "\n"
          ],
          "name": "stdout"
        }
      ]
    },
    {
      "cell_type": "code",
      "metadata": {
        "id": "RA36jLQ0-OkE"
      },
      "source": [
        "df3 = df.join(df_customer, on=['customer_id'], how='inner')\n",
        "df3 = df3.select(['customer_id','id','first_name','last_name','EncryEmail'])"
      ],
      "execution_count": 30,
      "outputs": []
    },
    {
      "cell_type": "code",
      "metadata": {
        "colab": {
          "base_uri": "https://localhost:8080/"
        },
        "id": "LTQ-jt-uBQra",
        "outputId": "b6acf1a8-3e7a-47c4-c190-d7001a2f73cc"
      },
      "source": [
        "df3.select([count(when(isnan(c) | col(c).isNull(), c)).alias(c) for c in df3.columns]).show()"
      ],
      "execution_count": 31,
      "outputs": [
        {
          "output_type": "stream",
          "text": [
            "+-----------+---+----------+---------+----------+\n",
            "|customer_id| id|first_name|last_name|EncryEmail|\n",
            "+-----------+---+----------+---------+----------+\n",
            "|          0|  0|         0|        0|         0|\n",
            "+-----------+---+----------+---------+----------+\n",
            "\n"
          ],
          "name": "stdout"
        }
      ]
    },
    {
      "cell_type": "markdown",
      "metadata": {
        "id": "HzJxoqYRBTKg"
      },
      "source": [
        "Answer of Question 3"
      ]
    },
    {
      "cell_type": "code",
      "metadata": {
        "id": "fQ596CLVd_tG",
        "colab": {
          "base_uri": "https://localhost:8080/"
        },
        "outputId": "4040e9cc-1527-4ce5-f500-0f51c660cd3a"
      },
      "source": [
        "df3.groupBy('first_name','last_name','EncryEmail')\\\n",
        "  .agg(count('id'))\\\n",
        "  .where(col('count(id)')<10)\\\n",
        "  .withColumnRenamed('count(id)','OrderPlacedByUser')\\\n",
        "  .show()"
      ],
      "execution_count": 32,
      "outputs": [
        {
          "output_type": "stream",
          "text": [
            "+----------+----------+--------------------+-----------------+\n",
            "|first_name| last_name|          EncryEmail|OrderPlacedByUser|\n",
            "+----------+----------+--------------------+-----------------+\n",
            "|   Richard|  Peterson|c637e9b68f817c6e2...|                8|\n",
            "|    Jeremy|      Shaw|2f40dfd43fa285d19...|                7|\n",
            "|    Alicia|  Martinez|73d4e1335c8b73f44...|                6|\n",
            "|     Jason|     Moore|b5075cf22f983d637...|                7|\n",
            "|    Joanna|     Terry|f9477c84df3fa1add...|                7|\n",
            "|    Travis|    Phelps|a750ecf95c82cc5ff...|                7|\n",
            "|      Sara|   Ramirez|84d79088d5b6c3377...|                9|\n",
            "|   Nichole|    Morris|585265c94b51e0119...|                7|\n",
            "|    Angela|    Taylor|10b39830a7ba95742...|                9|\n",
            "|    Olivia|    Hudson|335444f3cbb088d2e...|                8|\n",
            "|      Ryan|   Terrell|f7b1672d53d0ae4b0...|                6|\n",
            "|    Thomas|Montgomery|2a011e8e05b91ce7c...|                8|\n",
            "|      Lisa|     Mckay|c146b7fba37684f0b...|                6|\n",
            "|  Meredith|    French|98184d7fe4f3610f6...|                9|\n",
            "|  Jennifer|   Collins|6c98acd6b8b7d82b2...|                9|\n",
            "|   Beverly|    Barnes|79a0ea032f92e7993...|                5|\n",
            "|   Francis|     Smith|1ba4b9f41b984914a...|                9|\n",
            "| Katherine|   Johnson|b4ea219b3ca7e5125...|                8|\n",
            "|      Ryan|  Robinson|e1d7f957f110ac7b8...|                6|\n",
            "|      Paul|     Smith|03fab0b43d2e3b7f5...|                8|\n",
            "+----------+----------+--------------------+-----------------+\n",
            "only showing top 20 rows\n",
            "\n"
          ],
          "name": "stdout"
        }
      ]
    }
  ]
}